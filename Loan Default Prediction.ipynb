{
 "cells": [
  {
   "cell_type": "markdown",
   "id": "ONaR70G7_I2D",
   "metadata": {
    "id": "ONaR70G7_I2D"
   },
   "source": [
    "<H1>PREDICTING LOAN DEFAULTS USING MACHINE LEARNING ALGORITHMS</H1>"
   ]
  },
  {
   "cell_type": "markdown",
   "id": "zaP0sjXU_I2G",
   "metadata": {
    "id": "zaP0sjXU_I2G"
   },
   "source": [
    "<h2>Overview of the data and problem statement</h2>"
   ]
  },
  {
   "cell_type": "markdown",
   "id": "qg2478IA_I2I",
   "metadata": {
    "id": "qg2478IA_I2I"
   },
   "source": [
    "The dataset has a total of 100,000 rows, each of which contains details about a loan and the customer who received that loan. Information about whether or not a customer defaulted on a loan has been provided for 90,000 of the cases, while this information has not been provided for the remaining 10,000 cases. I used the 90,000 rows for which I have complete information to train and test the machine learning models. I have then used that model to predict whether or not a default occurred for the remaining 10,000 loans."
   ]
  },
  {
   "cell_type": "markdown",
   "id": "B3UxQoX-_I2L",
   "metadata": {
    "id": "B3UxQoX-_I2L"
   },
   "source": [
    "<b>The columns contained in the dataset are:</b>\n",
    "\n",
    "• loan_id – The unique ID value for each loan.<br>\n",
    "• loan_default – Whether or not the customer defaulted on the loan (1 = did default, 0 = did not default). This is the primary outcome variable that you are trying to predict in this project.<br>\n",
    "• loan_amount – The total amount of money (in U.S. dollars) that was loaned to the customer,<br>\n",
    "• asset_cost – The total cost (in U.S. dollars) of the item for which the customer sought a loan.<br>\n",
    "• loan_to_value – The percentage of the total cost of the item that was paid for with the loan.<br>\n",
    "• customer_age – The age of the customer (in years).<br>\n",
    "• self_employed – Whether or not the customer is self-employed (1 = self-employed, 0 = not self-employed).<br>\n",
    "• voter_status_shared – Whether or not the customer voluntarily shared his or her voter status as part of the loan application process (1 = shared, 0 = did not share).<br>\n",
    "• drivers_license_shared – Whether or not the customer voluntarily shared his or her driver’s license information as part of the loan application process (1 = shared, 0 = did not share).<br>\n",
    "• passport_shared – Whether or not the customer voluntarily shared his or her passport information as part of the loan application process (1 = shared, 0 = did not share).<br>\n",
    "• credit_score – The customer’s FICO credit score at the time the loan was disbursed.<br>\n",
    "• credit_inquiries – The total number of times the customer’s credit has been checked as part of a loan application.<br>\n",
    "• total_credit_accounts – The total number of credit accounts that the customer has had in his or her lifetime.<br>\n",
    "• credit_history_length – The total length (in years) that the customer has had a credit history.<br>\n",
    "• active_credit_accounts – The total number of active credit accounts that the customer had at the time when the loan was disbursed.<br>\n",
    "• overdue_credit_accounts – The total number of credit accounts that the customer had that were overdue at the time when the loan was disbursed.<br>\n",
    "• average_credit_account_age – The average age of the customer’s credit accounts (in years).<br>\n",
    "• total_current_balance – The total amount of money (in U.S. dollars) that the customer currently owes to creditors.<br>\n",
    "• total_disbursed_loans – The total amount of money (in U.S. dollars) that the customer has received in loans during his or her lifetime.<br>\n",
    "• recent_loans – The total number of new loans that the customer has had the past six months.<br>\n",
    "• recent_defaulted_loans – The total number of loans on which the customer defaulted in the past six months."
   ]
  },
  {
   "cell_type": "markdown",
   "id": "TovWZibm_I2P",
   "metadata": {
    "id": "TovWZibm_I2P"
   },
   "source": [
    "<H3>Import Libraries</H3>"
   ]
  },
  {
   "cell_type": "code",
   "execution_count": 1,
   "id": "0qAOWUyj_I2Q",
   "metadata": {
    "id": "0qAOWUyj_I2Q"
   },
   "outputs": [],
   "source": [
    "import math\n",
    "import numpy as np\n",
    "import matplotlib.pyplot as plt\n",
    "import pandas as pd\n",
    "import sklearn.metrics as sklm\n",
    "import seaborn as sns\n",
    "import warnings\n",
    "from sklearn.linear_model import LogisticRegression\n",
    "from sklearn.metrics import classification_report, confusion_matrix, roc_auc_score, roc_curve\n",
    "from sklearn.model_selection import train_test_split\n",
    "from sklearn.neighbors import KNeighborsClassifier\n",
    "from sklearn.preprocessing import MinMaxScaler\n",
    "from sklearn.preprocessing import StandardScaler"
   ]
  },
  {
   "cell_type": "markdown",
   "id": "6Vc85B7V_I2R",
   "metadata": {
    "id": "6Vc85B7V_I2R"
   },
   "source": [
    "<H3>Load Dataset</H3>"
   ]
  },
  {
   "cell_type": "code",
   "execution_count": 2,
   "id": "g7RZHHx8_I2S",
   "metadata": {
    "id": "g7RZHHx8_I2S"
   },
   "outputs": [],
   "source": [
    "#load the CSV file into a pandas dataframe\n",
    "df = pd.read_csv('Project 01 - Data.csv', index_col='loan_id')"
   ]
  },
  {
   "cell_type": "code",
   "execution_count": 3,
   "id": "XUYas0ZQ_I2T",
   "metadata": {
    "colab": {
     "base_uri": "https://localhost:8080/",
     "height": 410
    },
    "id": "XUYas0ZQ_I2T",
    "outputId": "862144e5-7e1f-49a6-e680-8b49de738da6"
   },
   "outputs": [
    {
     "data": {
      "text/html": [
       "<div>\n",
       "<style scoped>\n",
       "    .dataframe tbody tr th:only-of-type {\n",
       "        vertical-align: middle;\n",
       "    }\n",
       "\n",
       "    .dataframe tbody tr th {\n",
       "        vertical-align: top;\n",
       "    }\n",
       "\n",
       "    .dataframe thead th {\n",
       "        text-align: right;\n",
       "    }\n",
       "</style>\n",
       "<table border=\"1\" class=\"dataframe\">\n",
       "  <thead>\n",
       "    <tr style=\"text-align: right;\">\n",
       "      <th></th>\n",
       "      <th>loan_amount</th>\n",
       "      <th>asset_cost</th>\n",
       "      <th>loan_to_value</th>\n",
       "      <th>customer_age</th>\n",
       "      <th>self_employed</th>\n",
       "      <th>voter_status_shared</th>\n",
       "      <th>drivers_license_shared</th>\n",
       "      <th>passport_shared</th>\n",
       "      <th>credit_score</th>\n",
       "      <th>credit_inquiries</th>\n",
       "      <th>total_credit_accounts</th>\n",
       "      <th>credit_history_length</th>\n",
       "      <th>active_credit_accounts</th>\n",
       "      <th>overdue_credit_accounts</th>\n",
       "      <th>average_credit_account_age</th>\n",
       "      <th>total_current_balance</th>\n",
       "      <th>total_disbursed_loans</th>\n",
       "      <th>recent_loans</th>\n",
       "      <th>recent_defaulted_loans</th>\n",
       "      <th>loan_default</th>\n",
       "    </tr>\n",
       "    <tr>\n",
       "      <th>loan_id</th>\n",
       "      <th></th>\n",
       "      <th></th>\n",
       "      <th></th>\n",
       "      <th></th>\n",
       "      <th></th>\n",
       "      <th></th>\n",
       "      <th></th>\n",
       "      <th></th>\n",
       "      <th></th>\n",
       "      <th></th>\n",
       "      <th></th>\n",
       "      <th></th>\n",
       "      <th></th>\n",
       "      <th></th>\n",
       "      <th></th>\n",
       "      <th></th>\n",
       "      <th></th>\n",
       "      <th></th>\n",
       "      <th></th>\n",
       "      <th></th>\n",
       "    </tr>\n",
       "  </thead>\n",
       "  <tbody>\n",
       "    <tr>\n",
       "      <th>1</th>\n",
       "      <td>53800</td>\n",
       "      <td>65300</td>\n",
       "      <td>0.824</td>\n",
       "      <td>40</td>\n",
       "      <td>1</td>\n",
       "      <td>1</td>\n",
       "      <td>0</td>\n",
       "      <td>1</td>\n",
       "      <td>762</td>\n",
       "      <td>1</td>\n",
       "      <td>2</td>\n",
       "      <td>4.250</td>\n",
       "      <td>2</td>\n",
       "      <td>0</td>\n",
       "      <td>2.333</td>\n",
       "      <td>2200</td>\n",
       "      <td>67200</td>\n",
       "      <td>1</td>\n",
       "      <td>0</td>\n",
       "      <td>0.0</td>\n",
       "    </tr>\n",
       "    <tr>\n",
       "      <th>2</th>\n",
       "      <td>58900</td>\n",
       "      <td>71000</td>\n",
       "      <td>0.830</td>\n",
       "      <td>23</td>\n",
       "      <td>0</td>\n",
       "      <td>0</td>\n",
       "      <td>0</td>\n",
       "      <td>0</td>\n",
       "      <td>680</td>\n",
       "      <td>2</td>\n",
       "      <td>9</td>\n",
       "      <td>1.250</td>\n",
       "      <td>4</td>\n",
       "      <td>0</td>\n",
       "      <td>0.667</td>\n",
       "      <td>26800</td>\n",
       "      <td>52300</td>\n",
       "      <td>3</td>\n",
       "      <td>0</td>\n",
       "      <td>0.0</td>\n",
       "    </tr>\n",
       "    <tr>\n",
       "      <th>3</th>\n",
       "      <td>59000</td>\n",
       "      <td>75100</td>\n",
       "      <td>0.786</td>\n",
       "      <td>43</td>\n",
       "      <td>0</td>\n",
       "      <td>0</td>\n",
       "      <td>0</td>\n",
       "      <td>0</td>\n",
       "      <td>771</td>\n",
       "      <td>0</td>\n",
       "      <td>6</td>\n",
       "      <td>1.750</td>\n",
       "      <td>3</td>\n",
       "      <td>0</td>\n",
       "      <td>1.167</td>\n",
       "      <td>129700</td>\n",
       "      <td>172200</td>\n",
       "      <td>2</td>\n",
       "      <td>0</td>\n",
       "      <td>0.0</td>\n",
       "    </tr>\n",
       "    <tr>\n",
       "      <th>4</th>\n",
       "      <td>58000</td>\n",
       "      <td>68000</td>\n",
       "      <td>0.853</td>\n",
       "      <td>42</td>\n",
       "      <td>1</td>\n",
       "      <td>0</td>\n",
       "      <td>0</td>\n",
       "      <td>0</td>\n",
       "      <td>692</td>\n",
       "      <td>0</td>\n",
       "      <td>3</td>\n",
       "      <td>0.500</td>\n",
       "      <td>2</td>\n",
       "      <td>0</td>\n",
       "      <td>0.167</td>\n",
       "      <td>250300</td>\n",
       "      <td>700000</td>\n",
       "      <td>2</td>\n",
       "      <td>0</td>\n",
       "      <td>0.0</td>\n",
       "    </tr>\n",
       "    <tr>\n",
       "      <th>5</th>\n",
       "      <td>57900</td>\n",
       "      <td>71900</td>\n",
       "      <td>0.805</td>\n",
       "      <td>49</td>\n",
       "      <td>1</td>\n",
       "      <td>1</td>\n",
       "      <td>0</td>\n",
       "      <td>0</td>\n",
       "      <td>657</td>\n",
       "      <td>0</td>\n",
       "      <td>4</td>\n",
       "      <td>14.750</td>\n",
       "      <td>3</td>\n",
       "      <td>0</td>\n",
       "      <td>5.000</td>\n",
       "      <td>301600</td>\n",
       "      <td>327000</td>\n",
       "      <td>1</td>\n",
       "      <td>0</td>\n",
       "      <td>0.0</td>\n",
       "    </tr>\n",
       "    <tr>\n",
       "      <th>6</th>\n",
       "      <td>69100</td>\n",
       "      <td>92800</td>\n",
       "      <td>0.745</td>\n",
       "      <td>30</td>\n",
       "      <td>1</td>\n",
       "      <td>0</td>\n",
       "      <td>0</td>\n",
       "      <td>0</td>\n",
       "      <td>617</td>\n",
       "      <td>0</td>\n",
       "      <td>2</td>\n",
       "      <td>2.250</td>\n",
       "      <td>2</td>\n",
       "      <td>0</td>\n",
       "      <td>1.000</td>\n",
       "      <td>100900</td>\n",
       "      <td>114600</td>\n",
       "      <td>1</td>\n",
       "      <td>1</td>\n",
       "      <td>0.0</td>\n",
       "    </tr>\n",
       "    <tr>\n",
       "      <th>7</th>\n",
       "      <td>69500</td>\n",
       "      <td>88300</td>\n",
       "      <td>0.787</td>\n",
       "      <td>39</td>\n",
       "      <td>0</td>\n",
       "      <td>0</td>\n",
       "      <td>0</td>\n",
       "      <td>0</td>\n",
       "      <td>712</td>\n",
       "      <td>0</td>\n",
       "      <td>24</td>\n",
       "      <td>5.750</td>\n",
       "      <td>3</td>\n",
       "      <td>0</td>\n",
       "      <td>1.333</td>\n",
       "      <td>28100</td>\n",
       "      <td>164400</td>\n",
       "      <td>0</td>\n",
       "      <td>0</td>\n",
       "      <td>0.0</td>\n",
       "    </tr>\n",
       "    <tr>\n",
       "      <th>8</th>\n",
       "      <td>40900</td>\n",
       "      <td>72200</td>\n",
       "      <td>0.566</td>\n",
       "      <td>52</td>\n",
       "      <td>0</td>\n",
       "      <td>0</td>\n",
       "      <td>0</td>\n",
       "      <td>0</td>\n",
       "      <td>684</td>\n",
       "      <td>0</td>\n",
       "      <td>14</td>\n",
       "      <td>9.750</td>\n",
       "      <td>6</td>\n",
       "      <td>0</td>\n",
       "      <td>2.333</td>\n",
       "      <td>606700</td>\n",
       "      <td>524500</td>\n",
       "      <td>1</td>\n",
       "      <td>0</td>\n",
       "      <td>0.0</td>\n",
       "    </tr>\n",
       "    <tr>\n",
       "      <th>9</th>\n",
       "      <td>52900</td>\n",
       "      <td>68500</td>\n",
       "      <td>0.772</td>\n",
       "      <td>40</td>\n",
       "      <td>1</td>\n",
       "      <td>0</td>\n",
       "      <td>0</td>\n",
       "      <td>0</td>\n",
       "      <td>510</td>\n",
       "      <td>0</td>\n",
       "      <td>2</td>\n",
       "      <td>1.917</td>\n",
       "      <td>1</td>\n",
       "      <td>1</td>\n",
       "      <td>1.417</td>\n",
       "      <td>24300</td>\n",
       "      <td>25000</td>\n",
       "      <td>0</td>\n",
       "      <td>0</td>\n",
       "      <td>1.0</td>\n",
       "    </tr>\n",
       "    <tr>\n",
       "      <th>10</th>\n",
       "      <td>75000</td>\n",
       "      <td>124200</td>\n",
       "      <td>0.604</td>\n",
       "      <td>39</td>\n",
       "      <td>1</td>\n",
       "      <td>0</td>\n",
       "      <td>0</td>\n",
       "      <td>0</td>\n",
       "      <td>640</td>\n",
       "      <td>0</td>\n",
       "      <td>5</td>\n",
       "      <td>1.917</td>\n",
       "      <td>3</td>\n",
       "      <td>0</td>\n",
       "      <td>0.833</td>\n",
       "      <td>1020500</td>\n",
       "      <td>1262700</td>\n",
       "      <td>0</td>\n",
       "      <td>0</td>\n",
       "      <td>0.0</td>\n",
       "    </tr>\n",
       "  </tbody>\n",
       "</table>\n",
       "</div>"
      ],
      "text/plain": [
       "         loan_amount  asset_cost  loan_to_value  customer_age  self_employed  \\\n",
       "loan_id                                                                        \n",
       "1              53800       65300          0.824            40              1   \n",
       "2              58900       71000          0.830            23              0   \n",
       "3              59000       75100          0.786            43              0   \n",
       "4              58000       68000          0.853            42              1   \n",
       "5              57900       71900          0.805            49              1   \n",
       "6              69100       92800          0.745            30              1   \n",
       "7              69500       88300          0.787            39              0   \n",
       "8              40900       72200          0.566            52              0   \n",
       "9              52900       68500          0.772            40              1   \n",
       "10             75000      124200          0.604            39              1   \n",
       "\n",
       "         voter_status_shared  drivers_license_shared  passport_shared  \\\n",
       "loan_id                                                                 \n",
       "1                          1                       0                1   \n",
       "2                          0                       0                0   \n",
       "3                          0                       0                0   \n",
       "4                          0                       0                0   \n",
       "5                          1                       0                0   \n",
       "6                          0                       0                0   \n",
       "7                          0                       0                0   \n",
       "8                          0                       0                0   \n",
       "9                          0                       0                0   \n",
       "10                         0                       0                0   \n",
       "\n",
       "         credit_score  credit_inquiries  total_credit_accounts  \\\n",
       "loan_id                                                          \n",
       "1                 762                 1                      2   \n",
       "2                 680                 2                      9   \n",
       "3                 771                 0                      6   \n",
       "4                 692                 0                      3   \n",
       "5                 657                 0                      4   \n",
       "6                 617                 0                      2   \n",
       "7                 712                 0                     24   \n",
       "8                 684                 0                     14   \n",
       "9                 510                 0                      2   \n",
       "10                640                 0                      5   \n",
       "\n",
       "         credit_history_length  active_credit_accounts  \\\n",
       "loan_id                                                  \n",
       "1                        4.250                       2   \n",
       "2                        1.250                       4   \n",
       "3                        1.750                       3   \n",
       "4                        0.500                       2   \n",
       "5                       14.750                       3   \n",
       "6                        2.250                       2   \n",
       "7                        5.750                       3   \n",
       "8                        9.750                       6   \n",
       "9                        1.917                       1   \n",
       "10                       1.917                       3   \n",
       "\n",
       "         overdue_credit_accounts  average_credit_account_age  \\\n",
       "loan_id                                                        \n",
       "1                              0                       2.333   \n",
       "2                              0                       0.667   \n",
       "3                              0                       1.167   \n",
       "4                              0                       0.167   \n",
       "5                              0                       5.000   \n",
       "6                              0                       1.000   \n",
       "7                              0                       1.333   \n",
       "8                              0                       2.333   \n",
       "9                              1                       1.417   \n",
       "10                             0                       0.833   \n",
       "\n",
       "         total_current_balance  total_disbursed_loans  recent_loans  \\\n",
       "loan_id                                                               \n",
       "1                         2200                  67200             1   \n",
       "2                        26800                  52300             3   \n",
       "3                       129700                 172200             2   \n",
       "4                       250300                 700000             2   \n",
       "5                       301600                 327000             1   \n",
       "6                       100900                 114600             1   \n",
       "7                        28100                 164400             0   \n",
       "8                       606700                 524500             1   \n",
       "9                        24300                  25000             0   \n",
       "10                     1020500                1262700             0   \n",
       "\n",
       "         recent_defaulted_loans  loan_default  \n",
       "loan_id                                        \n",
       "1                             0           0.0  \n",
       "2                             0           0.0  \n",
       "3                             0           0.0  \n",
       "4                             0           0.0  \n",
       "5                             0           0.0  \n",
       "6                             1           0.0  \n",
       "7                             0           0.0  \n",
       "8                             0           0.0  \n",
       "9                             0           1.0  \n",
       "10                            0           0.0  "
      ]
     },
     "execution_count": 3,
     "metadata": {},
     "output_type": "execute_result"
    }
   ],
   "source": [
    "df.head(10)"
   ]
  },
  {
   "cell_type": "code",
   "execution_count": 4,
   "id": "InWK-CP7_I2U",
   "metadata": {
    "colab": {
     "base_uri": "https://localhost:8080/"
    },
    "id": "InWK-CP7_I2U",
    "outputId": "af74a885-17ee-4f7c-d291-5d58432a2019"
   },
   "outputs": [
    {
     "data": {
      "text/plain": [
       "(100000, 20)"
      ]
     },
     "execution_count": 4,
     "metadata": {},
     "output_type": "execute_result"
    }
   ],
   "source": [
    "df.shape"
   ]
  },
  {
   "cell_type": "code",
   "execution_count": 5,
   "id": "h3KO1Y6t_I2V",
   "metadata": {
    "colab": {
     "base_uri": "https://localhost:8080/"
    },
    "id": "h3KO1Y6t_I2V",
    "outputId": "43aeccf8-0c55-457a-8da8-2a97d9b85220"
   },
   "outputs": [
    {
     "name": "stdout",
     "output_type": "stream",
     "text": [
      "<class 'pandas.core.frame.DataFrame'>\n",
      "Int64Index: 100000 entries, 1 to 100000\n",
      "Data columns (total 20 columns):\n",
      " #   Column                      Non-Null Count   Dtype  \n",
      "---  ------                      --------------   -----  \n",
      " 0   loan_amount                 100000 non-null  int64  \n",
      " 1   asset_cost                  100000 non-null  int64  \n",
      " 2   loan_to_value               100000 non-null  float64\n",
      " 3   customer_age                100000 non-null  int64  \n",
      " 4   self_employed               100000 non-null  int64  \n",
      " 5   voter_status_shared         100000 non-null  int64  \n",
      " 6   drivers_license_shared      100000 non-null  int64  \n",
      " 7   passport_shared             100000 non-null  int64  \n",
      " 8   credit_score                100000 non-null  int64  \n",
      " 9   credit_inquiries            100000 non-null  int64  \n",
      " 10  total_credit_accounts       100000 non-null  int64  \n",
      " 11  credit_history_length       100000 non-null  float64\n",
      " 12  active_credit_accounts      100000 non-null  int64  \n",
      " 13  overdue_credit_accounts     100000 non-null  int64  \n",
      " 14  average_credit_account_age  100000 non-null  float64\n",
      " 15  total_current_balance       100000 non-null  int64  \n",
      " 16  total_disbursed_loans       100000 non-null  int64  \n",
      " 17  recent_loans                100000 non-null  int64  \n",
      " 18  recent_defaulted_loans      100000 non-null  int64  \n",
      " 19  loan_default                90000 non-null   float64\n",
      "dtypes: float64(4), int64(16)\n",
      "memory usage: 16.0 MB\n"
     ]
    }
   ],
   "source": [
    "df.info()"
   ]
  },
  {
   "cell_type": "code",
   "execution_count": 6,
   "id": "RqFquvTR_I2W",
   "metadata": {
    "colab": {
     "base_uri": "https://localhost:8080/",
     "height": 317
    },
    "id": "RqFquvTR_I2W",
    "outputId": "9948a682-d277-4c28-e5a6-287c2c044a77"
   },
   "outputs": [
    {
     "data": {
      "text/html": [
       "<div>\n",
       "<style scoped>\n",
       "    .dataframe tbody tr th:only-of-type {\n",
       "        vertical-align: middle;\n",
       "    }\n",
       "\n",
       "    .dataframe tbody tr th {\n",
       "        vertical-align: top;\n",
       "    }\n",
       "\n",
       "    .dataframe thead th {\n",
       "        text-align: right;\n",
       "    }\n",
       "</style>\n",
       "<table border=\"1\" class=\"dataframe\">\n",
       "  <thead>\n",
       "    <tr style=\"text-align: right;\">\n",
       "      <th></th>\n",
       "      <th>loan_amount</th>\n",
       "      <th>asset_cost</th>\n",
       "      <th>loan_to_value</th>\n",
       "      <th>customer_age</th>\n",
       "      <th>self_employed</th>\n",
       "      <th>voter_status_shared</th>\n",
       "      <th>drivers_license_shared</th>\n",
       "      <th>passport_shared</th>\n",
       "      <th>credit_score</th>\n",
       "      <th>credit_inquiries</th>\n",
       "      <th>total_credit_accounts</th>\n",
       "      <th>credit_history_length</th>\n",
       "      <th>active_credit_accounts</th>\n",
       "      <th>overdue_credit_accounts</th>\n",
       "      <th>average_credit_account_age</th>\n",
       "      <th>total_current_balance</th>\n",
       "      <th>total_disbursed_loans</th>\n",
       "      <th>recent_loans</th>\n",
       "      <th>recent_defaulted_loans</th>\n",
       "      <th>loan_default</th>\n",
       "    </tr>\n",
       "  </thead>\n",
       "  <tbody>\n",
       "    <tr>\n",
       "      <th>count</th>\n",
       "      <td>100000.000000</td>\n",
       "      <td>1.000000e+05</td>\n",
       "      <td>100000.000000</td>\n",
       "      <td>100000.000000</td>\n",
       "      <td>100000.000000</td>\n",
       "      <td>100000.000000</td>\n",
       "      <td>100000.000000</td>\n",
       "      <td>100000.000000</td>\n",
       "      <td>100000.00000</td>\n",
       "      <td>100000.000000</td>\n",
       "      <td>100000.00000</td>\n",
       "      <td>100000.000000</td>\n",
       "      <td>100000.000000</td>\n",
       "      <td>100000.000000</td>\n",
       "      <td>100000.000000</td>\n",
       "      <td>1.000000e+05</td>\n",
       "      <td>1.000000e+05</td>\n",
       "      <td>100000.000000</td>\n",
       "      <td>100000.000000</td>\n",
       "      <td>90000.000000</td>\n",
       "    </tr>\n",
       "    <tr>\n",
       "      <th>mean</th>\n",
       "      <td>54574.544000</td>\n",
       "      <td>7.473938e+04</td>\n",
       "      <td>0.737256</td>\n",
       "      <td>37.311830</td>\n",
       "      <td>0.548330</td>\n",
       "      <td>0.118190</td>\n",
       "      <td>0.025230</td>\n",
       "      <td>0.002840</td>\n",
       "      <td>626.87628</td>\n",
       "      <td>0.339790</td>\n",
       "      <td>5.28932</td>\n",
       "      <td>2.867034</td>\n",
       "      <td>2.238090</td>\n",
       "      <td>0.345740</td>\n",
       "      <td>1.520643</td>\n",
       "      <td>3.617430e+05</td>\n",
       "      <td>4.769300e+05</td>\n",
       "      <td>0.771650</td>\n",
       "      <td>0.214650</td>\n",
       "      <td>0.200300</td>\n",
       "    </tr>\n",
       "    <tr>\n",
       "      <th>std</th>\n",
       "      <td>13100.434733</td>\n",
       "      <td>1.873511e+04</td>\n",
       "      <td>0.109982</td>\n",
       "      <td>9.393057</td>\n",
       "      <td>0.497661</td>\n",
       "      <td>0.322835</td>\n",
       "      <td>0.156824</td>\n",
       "      <td>0.053216</td>\n",
       "      <td>143.05150</td>\n",
       "      <td>0.930452</td>\n",
       "      <td>6.72878</td>\n",
       "      <td>2.784724</td>\n",
       "      <td>2.349016</td>\n",
       "      <td>0.781108</td>\n",
       "      <td>1.361291</td>\n",
       "      <td>1.333447e+06</td>\n",
       "      <td>3.560579e+06</td>\n",
       "      <td>1.279032</td>\n",
       "      <td>0.548688</td>\n",
       "      <td>0.400227</td>\n",
       "    </tr>\n",
       "    <tr>\n",
       "      <th>min</th>\n",
       "      <td>13700.000000</td>\n",
       "      <td>3.700000e+04</td>\n",
       "      <td>0.124000</td>\n",
       "      <td>21.000000</td>\n",
       "      <td>0.000000</td>\n",
       "      <td>0.000000</td>\n",
       "      <td>0.000000</td>\n",
       "      <td>0.000000</td>\n",
       "      <td>300.00000</td>\n",
       "      <td>0.000000</td>\n",
       "      <td>1.00000</td>\n",
       "      <td>0.000000</td>\n",
       "      <td>0.000000</td>\n",
       "      <td>0.000000</td>\n",
       "      <td>0.000000</td>\n",
       "      <td>0.000000e+00</td>\n",
       "      <td>0.000000e+00</td>\n",
       "      <td>0.000000</td>\n",
       "      <td>0.000000</td>\n",
       "      <td>0.000000</td>\n",
       "    </tr>\n",
       "    <tr>\n",
       "      <th>25%</th>\n",
       "      <td>47300.000000</td>\n",
       "      <td>6.530000e+04</td>\n",
       "      <td>0.681000</td>\n",
       "      <td>30.000000</td>\n",
       "      <td>0.000000</td>\n",
       "      <td>0.000000</td>\n",
       "      <td>0.000000</td>\n",
       "      <td>0.000000</td>\n",
       "      <td>574.00000</td>\n",
       "      <td>0.000000</td>\n",
       "      <td>2.00000</td>\n",
       "      <td>1.000000</td>\n",
       "      <td>1.000000</td>\n",
       "      <td>0.000000</td>\n",
       "      <td>0.667000</td>\n",
       "      <td>3.600000e+03</td>\n",
       "      <td>1.850000e+04</td>\n",
       "      <td>0.000000</td>\n",
       "      <td>0.000000</td>\n",
       "      <td>0.000000</td>\n",
       "    </tr>\n",
       "    <tr>\n",
       "      <th>50%</th>\n",
       "      <td>53900.000000</td>\n",
       "      <td>7.010000e+04</td>\n",
       "      <td>0.757000</td>\n",
       "      <td>36.000000</td>\n",
       "      <td>1.000000</td>\n",
       "      <td>0.000000</td>\n",
       "      <td>0.000000</td>\n",
       "      <td>0.000000</td>\n",
       "      <td>673.00000</td>\n",
       "      <td>0.000000</td>\n",
       "      <td>3.00000</td>\n",
       "      <td>2.083000</td>\n",
       "      <td>2.000000</td>\n",
       "      <td>0.000000</td>\n",
       "      <td>1.083000</td>\n",
       "      <td>4.080000e+04</td>\n",
       "      <td>7.390000e+04</td>\n",
       "      <td>0.000000</td>\n",
       "      <td>0.000000</td>\n",
       "      <td>0.000000</td>\n",
       "    </tr>\n",
       "    <tr>\n",
       "      <th>75%</th>\n",
       "      <td>60400.000000</td>\n",
       "      <td>7.750000e+04</td>\n",
       "      <td>0.822000</td>\n",
       "      <td>44.000000</td>\n",
       "      <td>1.000000</td>\n",
       "      <td>0.000000</td>\n",
       "      <td>0.000000</td>\n",
       "      <td>0.000000</td>\n",
       "      <td>719.00000</td>\n",
       "      <td>0.000000</td>\n",
       "      <td>7.00000</td>\n",
       "      <td>3.583000</td>\n",
       "      <td>3.000000</td>\n",
       "      <td>0.000000</td>\n",
       "      <td>1.917000</td>\n",
       "      <td>2.331000e+05</td>\n",
       "      <td>3.552000e+05</td>\n",
       "      <td>1.000000</td>\n",
       "      <td>0.000000</td>\n",
       "      <td>0.000000</td>\n",
       "    </tr>\n",
       "    <tr>\n",
       "      <th>max</th>\n",
       "      <td>987400.000000</td>\n",
       "      <td>1.329000e+06</td>\n",
       "      <td>0.937000</td>\n",
       "      <td>65.000000</td>\n",
       "      <td>1.000000</td>\n",
       "      <td>1.000000</td>\n",
       "      <td>1.000000</td>\n",
       "      <td>1.000000</td>\n",
       "      <td>850.00000</td>\n",
       "      <td>36.000000</td>\n",
       "      <td>453.00000</td>\n",
       "      <td>39.000000</td>\n",
       "      <td>43.000000</td>\n",
       "      <td>25.000000</td>\n",
       "      <td>24.333000</td>\n",
       "      <td>7.560340e+07</td>\n",
       "      <td>1.000000e+09</td>\n",
       "      <td>28.000000</td>\n",
       "      <td>20.000000</td>\n",
       "      <td>1.000000</td>\n",
       "    </tr>\n",
       "  </tbody>\n",
       "</table>\n",
       "</div>"
      ],
      "text/plain": [
       "         loan_amount    asset_cost  loan_to_value   customer_age  \\\n",
       "count  100000.000000  1.000000e+05  100000.000000  100000.000000   \n",
       "mean    54574.544000  7.473938e+04       0.737256      37.311830   \n",
       "std     13100.434733  1.873511e+04       0.109982       9.393057   \n",
       "min     13700.000000  3.700000e+04       0.124000      21.000000   \n",
       "25%     47300.000000  6.530000e+04       0.681000      30.000000   \n",
       "50%     53900.000000  7.010000e+04       0.757000      36.000000   \n",
       "75%     60400.000000  7.750000e+04       0.822000      44.000000   \n",
       "max    987400.000000  1.329000e+06       0.937000      65.000000   \n",
       "\n",
       "       self_employed  voter_status_shared  drivers_license_shared  \\\n",
       "count  100000.000000        100000.000000           100000.000000   \n",
       "mean        0.548330             0.118190                0.025230   \n",
       "std         0.497661             0.322835                0.156824   \n",
       "min         0.000000             0.000000                0.000000   \n",
       "25%         0.000000             0.000000                0.000000   \n",
       "50%         1.000000             0.000000                0.000000   \n",
       "75%         1.000000             0.000000                0.000000   \n",
       "max         1.000000             1.000000                1.000000   \n",
       "\n",
       "       passport_shared  credit_score  credit_inquiries  total_credit_accounts  \\\n",
       "count    100000.000000  100000.00000     100000.000000           100000.00000   \n",
       "mean          0.002840     626.87628          0.339790                5.28932   \n",
       "std           0.053216     143.05150          0.930452                6.72878   \n",
       "min           0.000000     300.00000          0.000000                1.00000   \n",
       "25%           0.000000     574.00000          0.000000                2.00000   \n",
       "50%           0.000000     673.00000          0.000000                3.00000   \n",
       "75%           0.000000     719.00000          0.000000                7.00000   \n",
       "max           1.000000     850.00000         36.000000              453.00000   \n",
       "\n",
       "       credit_history_length  active_credit_accounts  overdue_credit_accounts  \\\n",
       "count          100000.000000           100000.000000            100000.000000   \n",
       "mean                2.867034                2.238090                 0.345740   \n",
       "std                 2.784724                2.349016                 0.781108   \n",
       "min                 0.000000                0.000000                 0.000000   \n",
       "25%                 1.000000                1.000000                 0.000000   \n",
       "50%                 2.083000                2.000000                 0.000000   \n",
       "75%                 3.583000                3.000000                 0.000000   \n",
       "max                39.000000               43.000000                25.000000   \n",
       "\n",
       "       average_credit_account_age  total_current_balance  \\\n",
       "count               100000.000000           1.000000e+05   \n",
       "mean                     1.520643           3.617430e+05   \n",
       "std                      1.361291           1.333447e+06   \n",
       "min                      0.000000           0.000000e+00   \n",
       "25%                      0.667000           3.600000e+03   \n",
       "50%                      1.083000           4.080000e+04   \n",
       "75%                      1.917000           2.331000e+05   \n",
       "max                     24.333000           7.560340e+07   \n",
       "\n",
       "       total_disbursed_loans   recent_loans  recent_defaulted_loans  \\\n",
       "count           1.000000e+05  100000.000000           100000.000000   \n",
       "mean            4.769300e+05       0.771650                0.214650   \n",
       "std             3.560579e+06       1.279032                0.548688   \n",
       "min             0.000000e+00       0.000000                0.000000   \n",
       "25%             1.850000e+04       0.000000                0.000000   \n",
       "50%             7.390000e+04       0.000000                0.000000   \n",
       "75%             3.552000e+05       1.000000                0.000000   \n",
       "max             1.000000e+09      28.000000               20.000000   \n",
       "\n",
       "       loan_default  \n",
       "count  90000.000000  \n",
       "mean       0.200300  \n",
       "std        0.400227  \n",
       "min        0.000000  \n",
       "25%        0.000000  \n",
       "50%        0.000000  \n",
       "75%        0.000000  \n",
       "max        1.000000  "
      ]
     },
     "execution_count": 6,
     "metadata": {},
     "output_type": "execute_result"
    }
   ],
   "source": [
    "df.describe()"
   ]
  },
  {
   "cell_type": "markdown",
   "id": "yeq9_Ddv_I2X",
   "metadata": {
    "id": "yeq9_Ddv_I2X"
   },
   "source": [
    "<H3>Data Understanding</H3>"
   ]
  },
  {
   "cell_type": "code",
   "execution_count": 7,
   "id": "H6KLpDau_I2Y",
   "metadata": {
    "colab": {
     "base_uri": "https://localhost:8080/",
     "height": 715
    },
    "id": "H6KLpDau_I2Y",
    "outputId": "a1f8467e-6b92-4d93-a8fc-5a056c502e9f"
   },
   "outputs": [
    {
     "data": {
      "image/png": "[encoded data removed]",
      "text/plain": [
       "<Figure size 864x864 with 4 Axes>"
      ]
     },
     "metadata": {
      "needs_background": "light"
     },
     "output_type": "display_data"
    }
   ],
   "source": [
    "#Visualize the categorial variables (features)\n",
    "rows, cols = 2, 2\n",
    "df_col_index = 4\n",
    "fig, ax = plt.subplots(rows, cols, figsize=(12,12))\n",
    "for row in range(rows):\n",
    "  for col in range(cols):\n",
    "    sns.kdeplot(df[df.columns[df_col_index]], ax=ax[row, col], fill=True)\n",
    "    df_col_index += 1"
   ]
  },
  {
   "cell_type": "markdown",
   "id": "SPkqHjJY_I2Z",
   "metadata": {
    "id": "SPkqHjJY_I2Z"
   },
   "source": [
    "Except credit score, other categorical features seems to be imbalanced"
   ]
  },
  {
   "cell_type": "code",
   "execution_count": 8,
   "id": "-oZArB6N_I2a",
   "metadata": {
    "id": "-oZArB6N_I2a"
   },
   "outputs": [],
   "source": [
    "#Drop the required columns\n",
    "df = df.drop(['passport_shared', 'drivers_license_shared', 'voter_status_shared', 'self_employed'], axis = 1)"
   ]
  },
  {
   "cell_type": "code",
   "execution_count": 9,
   "id": "CbQQ-Yxx_I2b",
   "metadata": {
    "colab": {
     "base_uri": "https://localhost:8080/"
    },
    "id": "CbQQ-Yxx_I2b",
    "outputId": "cd726bba-f962-413d-ee1b-eefc8fb92016"
   },
   "outputs": [
    {
     "data": {
      "text/plain": [
       "(100000, 16)"
      ]
     },
     "execution_count": 9,
     "metadata": {},
     "output_type": "execute_result"
    }
   ],
   "source": [
    "df.shape"
   ]
  },
  {
   "cell_type": "code",
   "execution_count": 10,
   "id": "TAJ1iD9x_I2c",
   "metadata": {
    "colab": {
     "base_uri": "https://localhost:8080/",
     "height": 889
    },
    "id": "TAJ1iD9x_I2c",
    "outputId": "f79e36a6-5a3b-4d6e-ece3-9381e72c0c81"
   },
   "outputs": [
    {
     "data": {
      "image/png": "[encoded data removed]",
      "text/plain": [
       "<Figure size 1080x1080 with 16 Axes>"
      ]
     },
     "metadata": {
      "needs_background": "light"
     },
     "output_type": "display_data"
    }
   ],
   "source": [
    "#generate kernel density estimate (KDE) plots for the remaining 16 variables in the dataset\n",
    "rows, cols = 4, 4\n",
    "df_col_index = 0\n",
    "fig, ax = plt.subplots(rows, cols, figsize=(15,15))\n",
    "for row in range(rows):\n",
    "  for col in range(cols):\n",
    "    sns.kdeplot(df[df.columns[df_col_index]], ax=ax[row, col], fill=True)\n",
    "    df_col_index += 1"
   ]
  },
  {
   "cell_type": "markdown",
   "id": "0kF--CK8_I2d",
   "metadata": {
    "id": "0kF--CK8_I2d"
   },
   "source": [
    "Most of the features are observed to be right-skewed, except 'credit_score' and 'loan_to_value'."
   ]
  },
  {
   "cell_type": "markdown",
   "id": "H9xmjkzU_I2d",
   "metadata": {
    "id": "H9xmjkzU_I2d"
   },
   "source": [
    "<H3>Data Preprocessing</H3>"
   ]
  },
  {
   "cell_type": "code",
   "execution_count": 11,
   "id": "IlUZFCMv_I2e",
   "metadata": {
    "id": "IlUZFCMv_I2e"
   },
   "outputs": [],
   "source": [
    "#Apply natural log transformation to the left-skewed variables in order to make the distribution 'more' normal.\n",
    "\n",
    "df['loan_amount'] = [math.log(x) for x in df['loan_amount']]\n",
    "df['asset_cost'] = [math.log(x) for x in df['asset_cost']]\n",
    "df['customer_age'] = [math.log(x) for x in df['customer_age']]\n",
    "df['credit_inquiries'] = [math.log(x + 1) for x in df['credit_inquiries']]\n",
    "df['total_credit_accounts'] = [math.log(x) for x in df['total_credit_accounts']]\n",
    "df['credit_history_length'] = [math.log(x + 1) for x in df['credit_history_length']]\n",
    "df['active_credit_accounts'] = [math.log(x + 1) for x in df['active_credit_accounts']]\n",
    "df['overdue_credit_accounts'] = [math.log(x + 1) for x in df['overdue_credit_accounts']]\n",
    "df['average_credit_account_age'] = [math.log(x + 1) for x in df['average_credit_account_age']]\n",
    "df['total_current_balance'] = [math.log(x + 1) for x in df['total_current_balance']]\n",
    "df['total_disbursed_loans'] = [math.log(x + 1) for x in df['total_disbursed_loans']]\n",
    "df['recent_loans'] = [math.log(x + 1) for x in df['recent_loans']]\n",
    "df['recent_defaulted_loans'] = [math.log(x + 1) for x in df['recent_defaulted_loans']]\n",
    "\n",
    "#Apply exponential transformation for the right-skewed variables\n",
    "df['loan_to_value'] = [math.exp(x) for x in df['loan_to_value']]\n",
    "df['credit_score'] = [math.log(x) for x in df['credit_score']] #Exp transformation is outside the range"
   ]
  },
  {
   "cell_type": "code",
   "execution_count": 12,
   "id": "boZDOe5M_I2g",
   "metadata": {
    "colab": {
     "base_uri": "https://localhost:8080/",
     "height": 878
    },
    "id": "boZDOe5M_I2g",
    "outputId": "317f9e4e-17ed-42f7-c829-f8b1210fa14f"
   },
   "outputs": [
    {
     "data": {
      "image/png": "[encoded data removed]",
      "text/plain": [
       "<Figure size 1080x1080 with 16 Axes>"
      ]
     },
     "metadata": {
      "needs_background": "light"
     },
     "output_type": "display_data"
    }
   ],
   "source": [
    "#generate kernel density estimate (KDE) plots for the remaining 16 variables in the dataset after transformation\n",
    "rows, cols = 4, 4\n",
    "df_col_index = 0\n",
    "fig, ax = plt.subplots(rows, cols, figsize=(15,15))\n",
    "for row in range(rows):\n",
    "  for col in range(cols):\n",
    "    sns.kdeplot(df[df.columns[df_col_index]], ax=ax[row, col], fill=True)\n",
    "    df_col_index += 1"
   ]
  },
  {
   "cell_type": "code",
   "execution_count": 13,
   "id": "Chm5mR_x_I2h",
   "metadata": {
    "colab": {
     "base_uri": "https://localhost:8080/"
    },
    "id": "Chm5mR_x_I2h",
    "outputId": "94a82ce7-c9d6-45cf-c0fd-df8a47109d6e"
   },
   "outputs": [
    {
     "name": "stdout",
     "output_type": "stream",
     "text": [
      "<class 'pandas.core.frame.DataFrame'>\n",
      "Int64Index: 100000 entries, 1 to 100000\n",
      "Data columns (total 16 columns):\n",
      " #   Column                      Non-Null Count   Dtype  \n",
      "---  ------                      --------------   -----  \n",
      " 0   loan_amount                 100000 non-null  float64\n",
      " 1   asset_cost                  100000 non-null  float64\n",
      " 2   loan_to_value               100000 non-null  float64\n",
      " 3   customer_age                100000 non-null  float64\n",
      " 4   credit_score                100000 non-null  float64\n",
      " 5   credit_inquiries            100000 non-null  float64\n",
      " 6   total_credit_accounts       100000 non-null  float64\n",
      " 7   credit_history_length       100000 non-null  float64\n",
      " 8   active_credit_accounts      100000 non-null  float64\n",
      " 9   overdue_credit_accounts     100000 non-null  float64\n",
      " 10  average_credit_account_age  100000 non-null  float64\n",
      " 11  total_current_balance       100000 non-null  float64\n",
      " 12  total_disbursed_loans       100000 non-null  float64\n",
      " 13  recent_loans                100000 non-null  float64\n",
      " 14  recent_defaulted_loans      100000 non-null  float64\n",
      " 15  loan_default                90000 non-null   float64\n",
      "dtypes: float64(16)\n",
      "memory usage: 13.0 MB\n"
     ]
    }
   ],
   "source": [
    "df.info()"
   ]
  },
  {
   "cell_type": "code",
   "execution_count": 14,
   "id": "lPD-nbL__I2i",
   "metadata": {
    "colab": {
     "base_uri": "https://localhost:8080/",
     "height": 317
    },
    "id": "lPD-nbL__I2i",
    "outputId": "93451d57-fccf-424d-dcf3-ba5deb15f88d"
   },
   "outputs": [
    {
     "data": {
      "text/html": [
       "<div>\n",
       "<style scoped>\n",
       "    .dataframe tbody tr th:only-of-type {\n",
       "        vertical-align: middle;\n",
       "    }\n",
       "\n",
       "    .dataframe tbody tr th {\n",
       "        vertical-align: top;\n",
       "    }\n",
       "\n",
       "    .dataframe thead th {\n",
       "        text-align: right;\n",
       "    }\n",
       "</style>\n",
       "<table border=\"1\" class=\"dataframe\">\n",
       "  <thead>\n",
       "    <tr style=\"text-align: right;\">\n",
       "      <th></th>\n",
       "      <th>loan_amount</th>\n",
       "      <th>asset_cost</th>\n",
       "      <th>loan_to_value</th>\n",
       "      <th>customer_age</th>\n",
       "      <th>credit_score</th>\n",
       "      <th>credit_inquiries</th>\n",
       "      <th>total_credit_accounts</th>\n",
       "      <th>credit_history_length</th>\n",
       "      <th>active_credit_accounts</th>\n",
       "      <th>overdue_credit_accounts</th>\n",
       "      <th>average_credit_account_age</th>\n",
       "      <th>total_current_balance</th>\n",
       "      <th>total_disbursed_loans</th>\n",
       "      <th>recent_loans</th>\n",
       "      <th>recent_defaulted_loans</th>\n",
       "      <th>loan_default</th>\n",
       "    </tr>\n",
       "  </thead>\n",
       "  <tbody>\n",
       "    <tr>\n",
       "      <th>count</th>\n",
       "      <td>100000.000000</td>\n",
       "      <td>100000.000000</td>\n",
       "      <td>100000.000000</td>\n",
       "      <td>100000.000000</td>\n",
       "      <td>100000.000000</td>\n",
       "      <td>100000.000000</td>\n",
       "      <td>100000.000000</td>\n",
       "      <td>100000.000000</td>\n",
       "      <td>100000.000000</td>\n",
       "      <td>100000.000000</td>\n",
       "      <td>100000.000000</td>\n",
       "      <td>100000.000000</td>\n",
       "      <td>100000.000000</td>\n",
       "      <td>100000.000000</td>\n",
       "      <td>100000.000000</td>\n",
       "      <td>90000.000000</td>\n",
       "    </tr>\n",
       "    <tr>\n",
       "      <th>mean</th>\n",
       "      <td>10.880871</td>\n",
       "      <td>11.198919</td>\n",
       "      <td>2.102377</td>\n",
       "      <td>3.587946</td>\n",
       "      <td>6.406941</td>\n",
       "      <td>0.185134</td>\n",
       "      <td>1.197294</td>\n",
       "      <td>1.163456</td>\n",
       "      <td>0.976767</td>\n",
       "      <td>0.204584</td>\n",
       "      <td>0.822115</td>\n",
       "      <td>8.999481</td>\n",
       "      <td>9.844268</td>\n",
       "      <td>0.406458</td>\n",
       "      <td>0.134523</td>\n",
       "      <td>0.200300</td>\n",
       "    </tr>\n",
       "    <tr>\n",
       "      <th>std</th>\n",
       "      <td>0.231518</td>\n",
       "      <td>0.201727</td>\n",
       "      <td>0.218547</td>\n",
       "      <td>0.250659</td>\n",
       "      <td>0.278685</td>\n",
       "      <td>0.394907</td>\n",
       "      <td>0.936970</td>\n",
       "      <td>0.586616</td>\n",
       "      <td>0.616382</td>\n",
       "      <td>0.382014</td>\n",
       "      <td>0.425990</td>\n",
       "      <td>4.887987</td>\n",
       "      <td>4.692761</td>\n",
       "      <td>0.528674</td>\n",
       "      <td>0.308197</td>\n",
       "      <td>0.400227</td>\n",
       "    </tr>\n",
       "    <tr>\n",
       "      <th>min</th>\n",
       "      <td>9.525151</td>\n",
       "      <td>10.518673</td>\n",
       "      <td>1.132016</td>\n",
       "      <td>3.044522</td>\n",
       "      <td>5.703782</td>\n",
       "      <td>0.000000</td>\n",
       "      <td>0.000000</td>\n",
       "      <td>0.000000</td>\n",
       "      <td>0.000000</td>\n",
       "      <td>0.000000</td>\n",
       "      <td>0.000000</td>\n",
       "      <td>0.000000</td>\n",
       "      <td>0.000000</td>\n",
       "      <td>0.000000</td>\n",
       "      <td>0.000000</td>\n",
       "      <td>0.000000</td>\n",
       "    </tr>\n",
       "    <tr>\n",
       "      <th>25%</th>\n",
       "      <td>10.764266</td>\n",
       "      <td>11.086747</td>\n",
       "      <td>1.975853</td>\n",
       "      <td>3.401197</td>\n",
       "      <td>6.352629</td>\n",
       "      <td>0.000000</td>\n",
       "      <td>0.693147</td>\n",
       "      <td>0.693147</td>\n",
       "      <td>0.693147</td>\n",
       "      <td>0.000000</td>\n",
       "      <td>0.511026</td>\n",
       "      <td>8.188967</td>\n",
       "      <td>9.825580</td>\n",
       "      <td>0.000000</td>\n",
       "      <td>0.000000</td>\n",
       "      <td>0.000000</td>\n",
       "    </tr>\n",
       "    <tr>\n",
       "      <th>50%</th>\n",
       "      <td>10.894886</td>\n",
       "      <td>11.157678</td>\n",
       "      <td>2.131871</td>\n",
       "      <td>3.583519</td>\n",
       "      <td>6.511745</td>\n",
       "      <td>0.000000</td>\n",
       "      <td>1.098612</td>\n",
       "      <td>1.125903</td>\n",
       "      <td>1.098612</td>\n",
       "      <td>0.000000</td>\n",
       "      <td>0.733809</td>\n",
       "      <td>10.616462</td>\n",
       "      <td>11.210482</td>\n",
       "      <td>0.000000</td>\n",
       "      <td>0.000000</td>\n",
       "      <td>0.000000</td>\n",
       "    </tr>\n",
       "    <tr>\n",
       "      <th>75%</th>\n",
       "      <td>11.008744</td>\n",
       "      <td>11.258033</td>\n",
       "      <td>2.275045</td>\n",
       "      <td>3.784190</td>\n",
       "      <td>6.577861</td>\n",
       "      <td>0.000000</td>\n",
       "      <td>1.945910</td>\n",
       "      <td>1.522354</td>\n",
       "      <td>1.386294</td>\n",
       "      <td>0.000000</td>\n",
       "      <td>1.070556</td>\n",
       "      <td>12.359227</td>\n",
       "      <td>12.780439</td>\n",
       "      <td>0.693147</td>\n",
       "      <td>0.000000</td>\n",
       "      <td>0.000000</td>\n",
       "    </tr>\n",
       "    <tr>\n",
       "      <th>max</th>\n",
       "      <td>13.802831</td>\n",
       "      <td>14.099937</td>\n",
       "      <td>2.552313</td>\n",
       "      <td>4.174387</td>\n",
       "      <td>6.745236</td>\n",
       "      <td>3.610918</td>\n",
       "      <td>6.115892</td>\n",
       "      <td>3.688879</td>\n",
       "      <td>3.784190</td>\n",
       "      <td>3.258097</td>\n",
       "      <td>3.232108</td>\n",
       "      <td>18.141012</td>\n",
       "      <td>20.723266</td>\n",
       "      <td>3.367296</td>\n",
       "      <td>3.044522</td>\n",
       "      <td>1.000000</td>\n",
       "    </tr>\n",
       "  </tbody>\n",
       "</table>\n",
       "</div>"
      ],
      "text/plain": [
       "         loan_amount     asset_cost  loan_to_value   customer_age  \\\n",
       "count  100000.000000  100000.000000  100000.000000  100000.000000   \n",
       "mean       10.880871      11.198919       2.102377       3.587946   \n",
       "std         0.231518       0.201727       0.218547       0.250659   \n",
       "min         9.525151      10.518673       1.132016       3.044522   \n",
       "25%        10.764266      11.086747       1.975853       3.401197   \n",
       "50%        10.894886      11.157678       2.131871       3.583519   \n",
       "75%        11.008744      11.258033       2.275045       3.784190   \n",
       "max        13.802831      14.099937       2.552313       4.174387   \n",
       "\n",
       "        credit_score  credit_inquiries  total_credit_accounts  \\\n",
       "count  100000.000000     100000.000000          100000.000000   \n",
       "mean        6.406941          0.185134               1.197294   \n",
       "std         0.278685          0.394907               0.936970   \n",
       "min         5.703782          0.000000               0.000000   \n",
       "25%         6.352629          0.000000               0.693147   \n",
       "50%         6.511745          0.000000               1.098612   \n",
       "75%         6.577861          0.000000               1.945910   \n",
       "max         6.745236          3.610918               6.115892   \n",
       "\n",
       "       credit_history_length  active_credit_accounts  overdue_credit_accounts  \\\n",
       "count          100000.000000           100000.000000            100000.000000   \n",
       "mean                1.163456                0.976767                 0.204584   \n",
       "std                 0.586616                0.616382                 0.382014   \n",
       "min                 0.000000                0.000000                 0.000000   \n",
       "25%                 0.693147                0.693147                 0.000000   \n",
       "50%                 1.125903                1.098612                 0.000000   \n",
       "75%                 1.522354                1.386294                 0.000000   \n",
       "max                 3.688879                3.784190                 3.258097   \n",
       "\n",
       "       average_credit_account_age  total_current_balance  \\\n",
       "count               100000.000000          100000.000000   \n",
       "mean                     0.822115               8.999481   \n",
       "std                      0.425990               4.887987   \n",
       "min                      0.000000               0.000000   \n",
       "25%                      0.511026               8.188967   \n",
       "50%                      0.733809              10.616462   \n",
       "75%                      1.070556              12.359227   \n",
       "max                      3.232108              18.141012   \n",
       "\n",
       "       total_disbursed_loans   recent_loans  recent_defaulted_loans  \\\n",
       "count          100000.000000  100000.000000           100000.000000   \n",
       "mean                9.844268       0.406458                0.134523   \n",
       "std                 4.692761       0.528674                0.308197   \n",
       "min                 0.000000       0.000000                0.000000   \n",
       "25%                 9.825580       0.000000                0.000000   \n",
       "50%                11.210482       0.000000                0.000000   \n",
       "75%                12.780439       0.693147                0.000000   \n",
       "max                20.723266       3.367296                3.044522   \n",
       "\n",
       "       loan_default  \n",
       "count  90000.000000  \n",
       "mean       0.200300  \n",
       "std        0.400227  \n",
       "min        0.000000  \n",
       "25%        0.000000  \n",
       "50%        0.000000  \n",
       "75%        0.000000  \n",
       "max        1.000000  "
      ]
     },
     "execution_count": 14,
     "metadata": {},
     "output_type": "execute_result"
    }
   ],
   "source": [
    "df.describe()"
   ]
  },
  {
   "cell_type": "markdown",
   "id": "3SRYY_oT_I2j",
   "metadata": {
    "id": "3SRYY_oT_I2j"
   },
   "source": [
    "<H3>Exploratory Data Analysis</H3>"
   ]
  },
  {
   "cell_type": "code",
   "execution_count": 15,
   "id": "QNqPhYme_I2j",
   "metadata": {
    "colab": {
     "base_uri": "https://localhost:8080/",
     "height": 988
    },
    "id": "QNqPhYme_I2j",
    "outputId": "38a73ba5-3c27-45f5-f566-7a2f65ab550a"
   },
   "outputs": [
    {
     "data": {
      "text/plain": [
       "<AxesSubplot:>"
      ]
     },
     "execution_count": 15,
     "metadata": {},
     "output_type": "execute_result"
    },
    {
     "data": {
      "image/png": "[encoded data removed]",
      "text/plain": [
       "<Figure size 1080x1080 with 2 Axes>"
      ]
     },
     "metadata": {
      "needs_background": "light"
     },
     "output_type": "display_data"
    }
   ],
   "source": [
    "#Plot a correlation matrix heatmap for all features\n",
    "fig, ax = plt.subplots(figsize=(15,15))\n",
    "sns.heatmap(df.corr(), annot=True, fmt='.3f', vmin=-1, vmax=1, center=0, cmap='coolwarm', ax=ax)"
   ]
  },
  {
   "cell_type": "markdown",
   "id": "UoByvLy1_I2k",
   "metadata": {
    "id": "UoByvLy1_I2k"
   },
   "source": [
    "Some of the features are observed to be highly correlated with others."
   ]
  },
  {
   "cell_type": "code",
   "execution_count": 16,
   "id": "2PRxkceX_I2l",
   "metadata": {
    "id": "2PRxkceX_I2l"
   },
   "outputs": [],
   "source": [
    "cols = ['total_disbursed_loans', 'average_credit_account_age']\n",
    "df = df.drop(columns = cols, axis = 1)"
   ]
  },
  {
   "cell_type": "code",
   "execution_count": 17,
   "id": "LhAs9_JM_I2l",
   "metadata": {
    "colab": {
     "base_uri": "https://localhost:8080/"
    },
    "id": "LhAs9_JM_I2l",
    "outputId": "8b1989ac-de4c-415d-e6ab-966f42590197"
   },
   "outputs": [
    {
     "data": {
      "text/plain": [
       "(100000, 14)"
      ]
     },
     "execution_count": 17,
     "metadata": {},
     "output_type": "execute_result"
    }
   ],
   "source": [
    "df.shape"
   ]
  },
  {
   "cell_type": "markdown",
   "id": "3nKhCysp_I2m",
   "metadata": {
    "id": "3nKhCysp_I2m"
   },
   "source": [
    "<H3>Create the validation dataset with the incomplete (missing) labels</H3>"
   ]
  },
  {
   "cell_type": "code",
   "execution_count": 18,
   "id": "qcKs1_ek_I2n",
   "metadata": {
    "id": "qcKs1_ek_I2n"
   },
   "outputs": [],
   "source": [
    "#create a dataframe containing only those rows for which a loan default prediction needs to be made\n",
    "df_predict = df[pd.isnull(df.loan_default) == True].copy()\n",
    "#remove all incomplete rows from the 'df' dataframe\n",
    "df = df[pd.isnull(df.loan_default) == False].copy()"
   ]
  },
  {
   "cell_type": "code",
   "execution_count": 19,
   "id": "y_l53UBu_I2o",
   "metadata": {
    "colab": {
     "base_uri": "https://localhost:8080/"
    },
    "id": "y_l53UBu_I2o",
    "outputId": "1e843a3d-5962-43ef-b31a-eeec6210c325"
   },
   "outputs": [
    {
     "name": "stdout",
     "output_type": "stream",
     "text": [
      "<class 'pandas.core.frame.DataFrame'>\n",
      "Int64Index: 90000 entries, 1 to 90000\n",
      "Data columns (total 14 columns):\n",
      " #   Column                   Non-Null Count  Dtype  \n",
      "---  ------                   --------------  -----  \n",
      " 0   loan_amount              90000 non-null  float64\n",
      " 1   asset_cost               90000 non-null  float64\n",
      " 2   loan_to_value            90000 non-null  float64\n",
      " 3   customer_age             90000 non-null  float64\n",
      " 4   credit_score             90000 non-null  float64\n",
      " 5   credit_inquiries         90000 non-null  float64\n",
      " 6   total_credit_accounts    90000 non-null  float64\n",
      " 7   credit_history_length    90000 non-null  float64\n",
      " 8   active_credit_accounts   90000 non-null  float64\n",
      " 9   overdue_credit_accounts  90000 non-null  float64\n",
      " 10  total_current_balance    90000 non-null  float64\n",
      " 11  recent_loans             90000 non-null  float64\n",
      " 12  recent_defaulted_loans   90000 non-null  float64\n",
      " 13  loan_default             90000 non-null  float64\n",
      "dtypes: float64(14)\n",
      "memory usage: 10.3 MB\n"
     ]
    }
   ],
   "source": [
    "df.info()"
   ]
  },
  {
   "cell_type": "markdown",
   "id": "_0avdlsh_I2p",
   "metadata": {
    "id": "_0avdlsh_I2p"
   },
   "source": [
    "<H3>Split the data into testing and training data</H3>"
   ]
  },
  {
   "cell_type": "code",
   "execution_count": 20,
   "id": "M58IL_YFKFdv",
   "metadata": {
    "id": "M58IL_YFKFdv"
   },
   "outputs": [],
   "source": [
    "X = df.iloc[:, :-1].values\n",
    "y = df.iloc[:, -1].values"
   ]
  },
  {
   "cell_type": "code",
   "execution_count": 21,
   "id": "Yo9QsX6_KOEO",
   "metadata": {
    "id": "Yo9QsX6_KOEO"
   },
   "outputs": [],
   "source": [
    "X_train, X_test, y_train, y_test = train_test_split(X, y, test_size=0.2, shuffle=True, stratify=y)"
   ]
  },
  {
   "cell_type": "code",
   "execution_count": 22,
   "id": "IHgI45KB_I2q",
   "metadata": {
    "id": "IHgI45KB_I2q"
   },
   "outputs": [],
   "source": [
    "#split the data into training and testing sets\n",
    "#df_train, df_test = train_test_split(df.copy(), test_size=0.2, shuffle=True, random_state=12345)\n",
    "#predictors = ['loan_amount', 'asset_cost', 'loan_to_value', 'customer_age', 'credit_score', 'credit_inquiries', 'total_credit_accounts', 'credit_history_length', 'active_credit_accounts', 'overdue_credit_accounts', 'total_current_balance', 'recent_loans', 'recent_defaulted_loans']\n",
    "#df[predictors] = scaler.fit_transform(df[predictors])"
   ]
  },
  {
   "cell_type": "code",
   "execution_count": 23,
   "id": "ORZSY3M2KYDi",
   "metadata": {
    "id": "ORZSY3M2KYDi"
   },
   "outputs": [],
   "source": [
    "#scaler = MinMaxScaler(feature_range=(0,1))\n",
    "scaler = StandardScaler()\n",
    "X_train = scaler.fit_transform(X_train)\n",
    "X_test = scaler.transform(X_test)"
   ]
  },
  {
   "cell_type": "code",
   "execution_count": 24,
   "id": "dChEuD6rpSXm",
   "metadata": {
    "id": "dChEuD6rpSXm"
   },
   "outputs": [],
   "source": [
    "# from sklearn.decomposition import PCA\n",
    "# kpca = PCA(n_components=5)\n",
    "# X_train = kpca.fit_transform(X_train)\n",
    "# X_test = kpca.transform(X_test)"
   ]
  },
  {
   "cell_type": "markdown",
   "id": "p95FJFuP_I2s",
   "metadata": {
    "id": "p95FJFuP_I2s"
   },
   "source": [
    "<H3>Run Machine Learning Classification Models</H3>"
   ]
  },
  {
   "cell_type": "markdown",
   "id": "2mv_UchM_I2s",
   "metadata": {
    "id": "2mv_UchM_I2s"
   },
   "source": [
    "<h4>Logistic Regression Classifier</h4>"
   ]
  },
  {
   "cell_type": "code",
   "execution_count": 25,
   "id": "U4XL-7GR_I2t",
   "metadata": {
    "colab": {
     "base_uri": "https://localhost:8080/"
    },
    "id": "U4XL-7GR_I2t",
    "outputId": "ab994321-ce67-4a2d-e77f-d3dddec3cfcd"
   },
   "outputs": [
    {
     "data": {
      "text/plain": [
       "LogisticRegression()"
      ]
     },
     "execution_count": 25,
     "metadata": {},
     "output_type": "execute_result"
    }
   ],
   "source": [
    "#train a logistic regression classifier\n",
    "classifier = LogisticRegression()\n",
    "classifier.fit(X_train, y_train)"
   ]
  },
  {
   "cell_type": "code",
   "execution_count": 26,
   "id": "v9FixD-N_I21",
   "metadata": {
    "id": "v9FixD-N_I21"
   },
   "outputs": [],
   "source": [
    "#generate predictions, and save them in a new column named \"Has_Diabetes_Predicted\" in the testing dataframe\n",
    "#df_test['loan_default_predicted'] = model.predict(df_test[predictors])\n",
    "\n",
    "#view actual and predicted values for the first 20 women in the testing set\n",
    "#df_test[['loan_default', 'loan_default_predicted']].tail(20)\n",
    "\n",
    "y_pred = classifier.predict(X_test)"
   ]
  },
  {
   "cell_type": "code",
   "execution_count": 27,
   "id": "yo9WaGYCrAr6",
   "metadata": {
    "colab": {
     "base_uri": "https://localhost:8080/"
    },
    "id": "yo9WaGYCrAr6",
    "outputId": "dcba3507-9776-4462-f70c-eb421be4298f"
   },
   "outputs": [
    {
     "name": "stdout",
     "output_type": "stream",
     "text": [
      "0.7991666666666667\n"
     ]
    }
   ],
   "source": [
    "from sklearn.metrics import accuracy_score\n",
    "print(accuracy_score(y_test, y_pred))"
   ]
  },
  {
   "cell_type": "markdown",
   "id": "0gxOOHQQ_I22",
   "metadata": {
    "id": "0gxOOHQQ_I22"
   },
   "source": [
    "<H4>Evaluation Metrics - Logistic</H4>"
   ]
  },
  {
   "cell_type": "code",
   "execution_count": 28,
   "id": "bi2o45WE_I22",
   "metadata": {
    "id": "bi2o45WE_I22"
   },
   "outputs": [],
   "source": [
    "# #define a function that generates a ROC curve\n",
    "# def generate_roc_curve(actual, predicted_probabilities):\n",
    "#     fpr, tpr, _ = roc_curve(actual, predicted_probabilities)\n",
    "#     auc = roc_auc_score(actual, predicted_probabilities)\n",
    "#     plt.plot(fpr, tpr, 'b-', lw=2, label='Area Under Curve (AUC): {0:.3f}'.format(auc))\n",
    "#     plt.plot([0, 1], [0, 1], 'r--')\n",
    "#     plt.title('ROC Curve')\n",
    "#     plt.xlabel('False Positive Rate')\n",
    "#     plt.ylabel('True Positive Rate')\n",
    "#     plt.legend(loc=4)\n",
    "#     plt.show()\n",
    "\n",
    "# #compute predicted probabilities that each woman in the testing set has diabetes\n",
    "# predicted_probabilities = model.predict_proba(df_test[predictors])[::,1]\n",
    "\n",
    "# #generate a ROC curve for the logistic regression classifier\n",
    "# generate_roc_curve(df_test['loan_default'], predicted_probabilities)"
   ]
  },
  {
   "cell_type": "code",
   "execution_count": 29,
   "id": "f3e1vA3Z_I23",
   "metadata": {
    "colab": {
     "base_uri": "https://localhost:8080/"
    },
    "id": "f3e1vA3Z_I23",
    "outputId": "7799aa4b-13c9-47b5-dbf3-0af66dc12965"
   },
   "outputs": [
    {
     "name": "stdout",
     "output_type": "stream",
     "text": [
      " True positive: 41 (0.23%)\n",
      " True negative: 14344 (79.69%)\n",
      "False positive: 51 (0.28%)\n",
      "False negative: 3564 (19.80%)\n",
      "\n",
      "               precision    recall  f1-score   support\n",
      "\n",
      "loan rejected     0.8010    0.9965    0.8881     14395\n",
      "loan approved     0.4457    0.0114    0.0222      3605\n",
      "\n",
      "     accuracy                         0.7992     18000\n",
      "    macro avg     0.6233    0.5039    0.4551     18000\n",
      " weighted avg     0.7298    0.7992    0.7147     18000\n",
      "\n"
     ]
    }
   ],
   "source": [
    "#define a function that prints a confusion matrix and other performance metrics\n",
    "def print_metrics(actual, predicted):\n",
    "  tn, fp, fn, tp = confusion_matrix(actual, predicted).ravel()\n",
    "  total_predictions = tn + fp + fn + tp\n",
    "  print(' True positive: {} ({:.2f}%)'.format(tp, tp / total_predictions * 100))\n",
    "  print(' True negative: {} ({:.2f}%)'.format(tn, tn / total_predictions * 100))\n",
    "  print('False positive: {} ({:.2f}%)'.format(fp, fp / total_predictions * 100))\n",
    "  print('False negative: {} ({:.2f}%)\\n'.format(fn, fn / total_predictions * 100))\n",
    "  target_names=['loan rejected', 'loan approved']\n",
    "  print(classification_report(actual, predicted, target_names=target_names, digits=4))\n",
    "\n",
    "#show the performance of the model on the testing data\n",
    "#print_metrics(df_test['loan_default'], df_test['loan_default_predicted'])\n",
    "print_metrics(y_test, y_pred)"
   ]
  },
  {
   "cell_type": "markdown",
   "id": "lFr0d9ZY_I25",
   "metadata": {
    "id": "lFr0d9ZY_I25"
   },
   "source": [
    "<H4>CART Classifier</H4>"
   ]
  },
  {
   "cell_type": "code",
   "execution_count": 30,
   "id": "8BVnF5YFC03L",
   "metadata": {
    "id": "8BVnF5YFC03L"
   },
   "outputs": [],
   "source": [
    "# y = df['loan_default'].values # Converting target variable to 1-dimensional numpy array or vector\n",
    "# df.drop(['loan_default'], axis=1, inplace=True)"
   ]
  },
  {
   "cell_type": "code",
   "execution_count": 31,
   "id": "O_CKr2IZC4ka",
   "metadata": {
    "id": "O_CKr2IZC4ka"
   },
   "outputs": [],
   "source": [
    "# X = df.values # Converting dataframe columns to matrix of features (numpy array)"
   ]
  },
  {
   "cell_type": "code",
   "execution_count": 32,
   "id": "OqJ8VKJZC7Sl",
   "metadata": {
    "id": "OqJ8VKJZC7Sl"
   },
   "outputs": [],
   "source": [
    "# from sklearn.model_selection import train_test_split\n",
    "# X_train, X_test, y_train, y_test = train_test_split(X, y, stratify=y, test_size=0.2)"
   ]
  },
  {
   "cell_type": "code",
   "execution_count": 33,
   "id": "3F_9VCRB_I25",
   "metadata": {
    "colab": {
     "base_uri": "https://localhost:8080/"
    },
    "id": "3F_9VCRB_I25",
    "outputId": "2c539ed5-37f3-4133-b06a-fcc4af2ea420"
   },
   "outputs": [
    {
     "data": {
      "text/plain": [
       "DecisionTreeClassifier(class_weight='balanced', max_depth=5,\n",
       "                       max_features='sqrt', min_samples_leaf=2,\n",
       "                       min_samples_split=12, splitter='random')"
      ]
     },
     "execution_count": 33,
     "metadata": {},
     "output_type": "execute_result"
    }
   ],
   "source": [
    "from sklearn.tree import DecisionTreeClassifier\n",
    "classifier = DecisionTreeClassifier(criterion='gini', \n",
    "                                    max_depth=5, \n",
    "                                    class_weight='balanced', \n",
    "                                    max_features='sqrt', \n",
    "                                    splitter='random',\n",
    "                                    min_samples_leaf=2,\n",
    "                                    min_samples_split=12) # Initializing the model object\n",
    "classifier.fit(X_train, y_train) # training the model"
   ]
  },
  {
   "cell_type": "code",
   "execution_count": 34,
   "id": "TloLfwywyLMa",
   "metadata": {
    "id": "TloLfwywyLMa"
   },
   "outputs": [],
   "source": [
    "# from sklearn.model_selection import GridSearchCV\n",
    "# parameters = [{'criterion':['gini', 'entropy'],\n",
    "#                'splitter':['best', 'random'],\n",
    "#                'max_depth':[3,4,5],\n",
    "#                'min_samples_split':[2,4,6,8,10,12,14],\n",
    "#                'min_samples_leaf':[1,2,4,6,8,10,12,14]}]\n",
    "# grid_search = GridSearchCV(estimator=classifier, \n",
    "#                            param_grid=parameters,\n",
    "#                            scoring='accuracy',\n",
    "#                            cv=5,\n",
    "#                            n_jobs=-1)\n",
    "# grid_search.fit(X_train, y_train)\n",
    "# best_accuracy = grid_search.best_score_\n",
    "# best_parameters = grid_search.best_params_\n",
    "# print('Best Accuracy: {:.2f}'.format(best_accuracy * 100))\n",
    "# print('Best Parameters: ', best_parameters)"
   ]
  },
  {
   "cell_type": "markdown",
   "id": "l6gb90Po_I26",
   "metadata": {
    "id": "l6gb90Po_I26"
   },
   "source": [
    "<h4>CART Evaluation Metrics</h4>"
   ]
  },
  {
   "cell_type": "code",
   "execution_count": 35,
   "id": "1olxCVCU_I27",
   "metadata": {
    "id": "1olxCVCU_I27"
   },
   "outputs": [],
   "source": [
    "y_pred = classifier.predict(X_test)"
   ]
  },
  {
   "cell_type": "code",
   "execution_count": 36,
   "id": "1mIeH6sJknCR",
   "metadata": {
    "colab": {
     "base_uri": "https://localhost:8080/"
    },
    "id": "1mIeH6sJknCR",
    "outputId": "735e8f97-a791-4d47-b1ae-396a419b1a83"
   },
   "outputs": [
    {
     "name": "stdout",
     "output_type": "stream",
     "text": [
      "[[11137  3258]\n",
      " [ 2285  1320]]\n"
     ]
    }
   ],
   "source": [
    "from sklearn.metrics import confusion_matrix\n",
    "print(confusion_matrix(y_test, y_pred))"
   ]
  },
  {
   "cell_type": "code",
   "execution_count": 37,
   "id": "-mE3tmkIl5uC",
   "metadata": {
    "colab": {
     "base_uri": "https://localhost:8080/"
    },
    "id": "-mE3tmkIl5uC",
    "outputId": "c4a386b3-cf8f-4a06-b2a9-90b0264eb6f8"
   },
   "outputs": [
    {
     "name": "stdout",
     "output_type": "stream",
     "text": [
      "0.6920555555555555\n"
     ]
    }
   ],
   "source": [
    "from sklearn.metrics import accuracy_score\n",
    "print(accuracy_score(y_test, y_pred))"
   ]
  },
  {
   "cell_type": "code",
   "execution_count": 38,
   "id": "8yUuNSbi_I27",
   "metadata": {
    "colab": {
     "base_uri": "https://localhost:8080/"
    },
    "id": "8yUuNSbi_I27",
    "outputId": "9f3e96b0-fbf6-489c-97a5-4464deb0bb03"
   },
   "outputs": [
    {
     "name": "stdout",
     "output_type": "stream",
     "text": [
      "Accuracy: 60.76\n",
      "Standard Deviation: 7.66 %\n",
      "Precision: 0.288\n",
      "Recall: 0.366\n",
      "F-Measure: 0.323\n"
     ]
    }
   ],
   "source": [
    "from sklearn.model_selection import cross_val_score\n",
    "accuracies = cross_val_score(classifier, X, y, n_jobs=-1, cv=10, scoring='accuracy')\n",
    "print('Accuracy: {:.2f}'.format(accuracies.mean() * 100))\n",
    "print(\"Standard Deviation: {:.2f} %\".format(accuracies.std()*100))\n",
    "\n",
    "from sklearn.metrics import precision_score\n",
    "precision = precision_score(y_test, y_pred)\n",
    "print('Precision: %.3f' % precision)\n",
    "\n",
    "from sklearn.metrics import recall_score\n",
    "recall = recall_score(y_test, y_pred, average='binary')\n",
    "print('Recall: %.3f' % recall)\n",
    "\n",
    "from sklearn.metrics import f1_score\n",
    "score = f1_score(y_test, y_pred)\n",
    "print('F-Measure: %.3f' % score)"
   ]
  },
  {
   "cell_type": "code",
   "execution_count": 39,
   "id": "QjgYyD4UCNRi",
   "metadata": {
    "colab": {
     "base_uri": "https://localhost:8080/"
    },
    "id": "QjgYyD4UCNRi",
    "outputId": "3d80789a-685f-43e9-ed23-ebf8ccb0c033"
   },
   "outputs": [
    {
     "name": "stdout",
     "output_type": "stream",
     "text": [
      "              precision    recall  f1-score   support\n",
      "\n",
      "         0.0       0.83      0.77      0.80     14395\n",
      "         1.0       0.29      0.37      0.32      3605\n",
      "\n",
      "    accuracy                           0.69     18000\n",
      "   macro avg       0.56      0.57      0.56     18000\n",
      "weighted avg       0.72      0.69      0.70     18000\n",
      "\n"
     ]
    }
   ],
   "source": [
    "from sklearn.metrics import classification_report\n",
    "print(classification_report(y_test, y_pred))"
   ]
  },
  {
   "cell_type": "code",
   "execution_count": 40,
   "id": "bEUyD3xj_I28",
   "metadata": {
    "colab": {
     "base_uri": "https://localhost:8080/",
     "height": 404
    },
    "id": "bEUyD3xj_I28",
    "outputId": "be14dcd3-3dd8-459d-f59c-ce245952b8f3"
   },
   "outputs": [
    {
     "data": {
      "image/png": "[encoded data removed]",
      "text/plain": [
       "<Figure size 1008x432 with 1 Axes>"
      ]
     },
     "metadata": {
      "needs_background": "light"
     },
     "output_type": "display_data"
    }
   ],
   "source": [
    "# Fix the code for ROC Curve\n",
    "\n",
    "import sklearn.metrics as metrics\n",
    "\n",
    "# calculate the fpr and tpr for all thresholds of the classification\n",
    "probs = classifier.predict_proba(X_test)\n",
    "preds = probs[:,1]\n",
    "# Get the true positive, false positive, and thresholds.\n",
    "fpr, tpr, threshold = metrics.roc_curve(y_test, y_pred)\n",
    "roc_auc = metrics.auc(fpr, tpr)\n",
    "\n",
    "# Plot FPR against TPR\n",
    "plt.figure(figsize=(14, 6))\n",
    "plt.title('AUC Plot')\n",
    "plt.plot(fpr, tpr, 'b', label = 'AUC = %0.2f' % roc_auc)\n",
    "plt.legend(loc = 'lower right')\n",
    "plt.plot([0, 1], [0, 1],'r--')\n",
    "plt.xlim([0, 1])\n",
    "plt.ylim([0, 1])\n",
    "plt.ylabel('True Positive Rate')\n",
    "plt.xlabel('False Positive Rate')\n",
    "plt.show()"
   ]
  },
  {
   "cell_type": "markdown",
   "id": "H7NgDJEr_I29",
   "metadata": {
    "id": "H7NgDJEr_I29"
   },
   "source": [
    "<H4>Random Forest Classifier</H4>"
   ]
  },
  {
   "cell_type": "code",
   "execution_count": 41,
   "id": "HrBVVrOK_I2-",
   "metadata": {
    "colab": {
     "base_uri": "https://localhost:8080/"
    },
    "id": "HrBVVrOK_I2-",
    "outputId": "67b37633-7090-4605-b8b3-7b5d045c5e7f"
   },
   "outputs": [
    {
     "data": {
      "text/plain": [
       "RandomForestClassifier(max_depth=5, n_estimators=300)"
      ]
     },
     "execution_count": 41,
     "metadata": {},
     "output_type": "execute_result"
    }
   ],
   "source": [
    "# X = df.values # Converting dataframe columns to matrix of features (numpy array)\n",
    "\n",
    "# from sklearn.model_selection import train_test_split\n",
    "# X_train, X_test, y_train, y_test = train_test_split(X, y, stratify=y, test_size=0.2)\n",
    "from sklearn.ensemble import RandomForestClassifier\n",
    "classifier = RandomForestClassifier(n_estimators=300, max_depth=5)\n",
    "classifier.fit(X_train, y_train)"
   ]
  },
  {
   "cell_type": "code",
   "execution_count": 42,
   "id": "AVIqieCy_I2_",
   "metadata": {
    "id": "AVIqieCy_I2_"
   },
   "outputs": [],
   "source": [
    "y_pred = classifier.predict(X_test)"
   ]
  },
  {
   "cell_type": "code",
   "execution_count": 43,
   "id": "u8wcMvKskviC",
   "metadata": {
    "colab": {
     "base_uri": "https://localhost:8080/"
    },
    "id": "u8wcMvKskviC",
    "outputId": "65333a69-1cb1-41b6-bfa8-825c77f8fd46"
   },
   "outputs": [
    {
     "name": "stdout",
     "output_type": "stream",
     "text": [
      "[[14395     0]\n",
      " [ 3605     0]]\n"
     ]
    }
   ],
   "source": [
    "from sklearn.metrics import confusion_matrix\n",
    "print(confusion_matrix(y_test, y_pred))"
   ]
  },
  {
   "cell_type": "code",
   "execution_count": 44,
   "id": "Hd_Gg0Un_I3A",
   "metadata": {
    "colab": {
     "base_uri": "https://localhost:8080/"
    },
    "id": "Hd_Gg0Un_I3A",
    "outputId": "ba5578e1-6919-4970-a412-63d90679c912"
   },
   "outputs": [
    {
     "name": "stdout",
     "output_type": "stream",
     "text": [
      "Accuracy: 79.97\n",
      "Standard Deviation: 0.01 %\n",
      "Precision: 0.000\n",
      "Recall: 0.000\n",
      "F-Measure: 0.000\n"
     ]
    },
    {
     "name": "stderr",
     "output_type": "stream",
     "text": [
      "C:\\Users\\Jarvis\\anaconda3\\lib\\site-packages\\sklearn\\metrics\\_classification.py:1245: UndefinedMetricWarning: Precision is ill-defined and being set to 0.0 due to no predicted samples. Use `zero_division` parameter to control this behavior.\n",
      "  _warn_prf(average, modifier, msg_start, len(result))\n"
     ]
    }
   ],
   "source": [
    "from sklearn.model_selection import cross_val_score\n",
    "accuracies = cross_val_score(classifier, X, y, n_jobs=-1, cv=10, scoring='accuracy')\n",
    "print('Accuracy: {:.2f}'.format(accuracies.mean() * 100))\n",
    "print(\"Standard Deviation: {:.2f} %\".format(accuracies.std()*100))\n",
    "\n",
    "from sklearn.metrics import precision_score\n",
    "precision = precision_score(y_test, y_pred)\n",
    "print('Precision: %.3f' % precision)\n",
    "\n",
    "from sklearn.metrics import recall_score\n",
    "recall = recall_score(y_test, y_pred, average='binary')\n",
    "print('Recall: %.3f' % recall)\n",
    "\n",
    "from sklearn.metrics import f1_score\n",
    "score = f1_score(y_test, y_pred)\n",
    "print('F-Measure: %.3f' % score)\n",
    "\n",
    "import warnings\n",
    "warnings.filterwarnings('ignore')"
   ]
  },
  {
   "cell_type": "code",
   "execution_count": 45,
   "id": "f6MjFp1bM3n9",
   "metadata": {
    "colab": {
     "base_uri": "https://localhost:8080/"
    },
    "id": "f6MjFp1bM3n9",
    "outputId": "a01e0886-979c-4e3d-8c40-36df690c53f0"
   },
   "outputs": [
    {
     "name": "stdout",
     "output_type": "stream",
     "text": [
      " True positive: 0 (0.00%)\n",
      " True negative: 14395 (79.97%)\n",
      "False positive: 0 (0.00%)\n",
      "False negative: 3605 (20.03%)\n",
      "\n",
      "               precision    recall  f1-score   support\n",
      "\n",
      "loan rejected     0.7997    1.0000    0.8887     14395\n",
      "loan approved     0.0000    0.0000    0.0000      3605\n",
      "\n",
      "     accuracy                         0.7997     18000\n",
      "    macro avg     0.3999    0.5000    0.4444     18000\n",
      " weighted avg     0.6396    0.7997    0.7107     18000\n",
      "\n"
     ]
    }
   ],
   "source": [
    "print_metrics(y_test, y_pred)"
   ]
  },
  {
   "cell_type": "markdown",
   "id": "BHvbzvKyMeeA",
   "metadata": {
    "id": "BHvbzvKyMeeA"
   },
   "source": [
    "K Nearest Neighbor"
   ]
  },
  {
   "cell_type": "code",
   "execution_count": 46,
   "id": "84ZX1Jvw_I3B",
   "metadata": {
    "colab": {
     "base_uri": "https://localhost:8080/"
    },
    "id": "84ZX1Jvw_I3B",
    "outputId": "8225bbd5-2d87-4df6-8d80-2a1caa966824"
   },
   "outputs": [
    {
     "data": {
      "text/plain": [
       "KNeighborsClassifier(n_neighbors=11)"
      ]
     },
     "execution_count": 46,
     "metadata": {},
     "output_type": "execute_result"
    }
   ],
   "source": [
    "#train a k-nearest neighbors (KNN) classifier\n",
    "import sklearn.metrics as metrics\n",
    "model = KNeighborsClassifier(n_neighbors=11)\n",
    "model.fit(X_train, y_train)\n",
    "\n",
    "#evaluate the performance of the KNN classifier using the test set\n",
    "#df_test['loan_default_predicted'] = model.predict(df_test[predictors])\n",
    "\n",
    "#show the performance of the model on the testing data\n",
    "#print_metrics(df_test['loan_default'], df_test['loan_default_predicted'])"
   ]
  },
  {
   "cell_type": "code",
   "execution_count": 47,
   "id": "1Lf95WvaMrWx",
   "metadata": {
    "id": "1Lf95WvaMrWx"
   },
   "outputs": [],
   "source": [
    "y_pred = model.predict(X_test)"
   ]
  },
  {
   "cell_type": "code",
   "execution_count": 48,
   "id": "FKAdXlqLqhPe",
   "metadata": {
    "colab": {
     "base_uri": "https://localhost:8080/"
    },
    "id": "FKAdXlqLqhPe",
    "outputId": "7ac4ada7-a7dc-4d50-e217-c0f91835647d"
   },
   "outputs": [
    {
     "name": "stdout",
     "output_type": "stream",
     "text": [
      "0.7898333333333334\n"
     ]
    }
   ],
   "source": [
    "print(accuracy_score(y_test, y_pred))"
   ]
  },
  {
   "cell_type": "code",
   "execution_count": 49,
   "id": "1c9Po-HPMuTe",
   "metadata": {
    "colab": {
     "base_uri": "https://localhost:8080/"
    },
    "id": "1c9Po-HPMuTe",
    "outputId": "10c15753-6c4e-4978-ec68-3992d19e9b1b"
   },
   "outputs": [
    {
     "name": "stdout",
     "output_type": "stream",
     "text": [
      " True positive: 244 (1.36%)\n",
      " True negative: 13973 (77.63%)\n",
      "False positive: 422 (2.34%)\n",
      "False negative: 3361 (18.67%)\n",
      "\n",
      "               precision    recall  f1-score   support\n",
      "\n",
      "loan rejected     0.8061    0.9707    0.8808     14395\n",
      "loan approved     0.3664    0.0677    0.1143      3605\n",
      "\n",
      "     accuracy                         0.7898     18000\n",
      "    macro avg     0.5862    0.5192    0.4975     18000\n",
      " weighted avg     0.7180    0.7898    0.7273     18000\n",
      "\n"
     ]
    }
   ],
   "source": [
    "print_metrics(y_test, y_pred)"
   ]
  },
  {
   "cell_type": "code",
   "execution_count": 50,
   "id": "Bz9TTAxh_I3C",
   "metadata": {
    "id": "Bz9TTAxh_I3C"
   },
   "outputs": [],
   "source": [
    "# #generate predictions, and save them in a new column named \"Has_Diabetes_Predicted\" in the testing dataframe\n",
    "# df_test['loan_default_predicted'] = model.predict(df_test[predictors])\n",
    "\n",
    "# #view actual and predicted values for the first 20 women in the testing set\n",
    "# df_test[['loan_default', 'loan_default_predicted']].tail(20)"
   ]
  },
  {
   "cell_type": "markdown",
   "id": "152GAu4wNKwQ",
   "metadata": {
    "id": "152GAu4wNKwQ"
   },
   "source": [
    "XGBoost"
   ]
  },
  {
   "cell_type": "code",
   "execution_count": 51,
   "id": "hh8QdgCl_I3D",
   "metadata": {
    "colab": {
     "base_uri": "https://localhost:8080/"
    },
    "id": "hh8QdgCl_I3D",
    "outputId": "9ec46793-c651-41bd-82d8-12d8e4679359"
   },
   "outputs": [
    {
     "name": "stdout",
     "output_type": "stream",
     "text": [
      "[11:34:58] WARNING: C:/Users/Administrator/workspace/xgboost-win64_release_1.3.0/src/learner.cc:1061: Starting in XGBoost 1.3.0, the default evaluation metric used with the objective 'binary:logistic' was changed from 'error' to 'logloss'. Explicitly set eval_metric if you'd like to restore the old behavior.\n"
     ]
    },
    {
     "data": {
      "text/plain": [
       "XGBClassifier(base_score=0.5, booster='gbtree', colsample_bylevel=1,\n",
       "              colsample_bynode=1, colsample_bytree=1, gamma=0, gpu_id=-1,\n",
       "              importance_type='gain', interaction_constraints='',\n",
       "              learning_rate=0.300000012, max_delta_step=0, max_depth=6,\n",
       "              min_child_weight=1, missing=nan, monotone_constraints='()',\n",
       "              n_estimators=100, n_jobs=8, num_parallel_tree=1, random_state=0,\n",
       "              reg_alpha=0, reg_lambda=1, scale_pos_weight=1, subsample=1,\n",
       "              tree_method='exact', validate_parameters=1, verbosity=None)"
      ]
     },
     "execution_count": 51,
     "metadata": {},
     "output_type": "execute_result"
    }
   ],
   "source": [
    "from xgboost import XGBClassifier\n",
    "classifier = XGBClassifier()\n",
    "classifier.fit(X_train, y_train)"
   ]
  },
  {
   "cell_type": "code",
   "execution_count": 52,
   "id": "L9Qb4GGQ_g11",
   "metadata": {
    "id": "L9Qb4GGQ_g11"
   },
   "outputs": [],
   "source": [
    "# from sklearn.model_selection import GridSearchCV\n",
    "# parameters = [{'learning_rate':[0.1,0.2,0.3],\n",
    "#                'n_estimators':[100, 200, 300],\n",
    "#                'max_depth':[3,4,5],\n",
    "#                'reg_alpha':[0, 1, 100]}]\n",
    "# grid_search = GridSearchCV(estimator=classifier, \n",
    "#                            param_grid=parameters,\n",
    "#                            scoring='accuracy',\n",
    "#                            cv=5,\n",
    "#                            n_jobs=-1)\n",
    "# grid_search.fit(X_train, y_train)\n",
    "# best_accuracy = grid_search.best_score_\n",
    "# best_parameters = grid_search.best_params_\n",
    "# print('Best Accuracy: {:.2f}'.format(best_accuracy * 100))\n",
    "# print('Best Parameters: ', best_parameters)"
   ]
  },
  {
   "cell_type": "code",
   "execution_count": 53,
   "id": "tmXm_psmm4hm",
   "metadata": {
    "id": "tmXm_psmm4hm"
   },
   "outputs": [],
   "source": [
    "# from catboost import CatBoostClassifier\n",
    "# classifier = CatBoostClassifier(n_estimators=300, depth=5)\n",
    "# classifier.fit(X_train, y_train)"
   ]
  },
  {
   "cell_type": "code",
   "execution_count": 54,
   "id": "8if3elIqRKQi",
   "metadata": {
    "id": "8if3elIqRKQi"
   },
   "outputs": [],
   "source": [
    "# from lightgbm import LGBMClassifier\n",
    "# classifier = LGBMClassifier(n_estimators=300, max_depth=5)\n",
    "# classifier.fit(X_train, y_train)"
   ]
  },
  {
   "cell_type": "code",
   "execution_count": 55,
   "id": "O3JW1xisNXt-",
   "metadata": {
    "id": "O3JW1xisNXt-"
   },
   "outputs": [],
   "source": [
    "y_pred = classifier.predict(X_test)"
   ]
  },
  {
   "cell_type": "code",
   "execution_count": 56,
   "id": "FwbpQjPgP5EV",
   "metadata": {
    "colab": {
     "base_uri": "https://localhost:8080/"
    },
    "id": "FwbpQjPgP5EV",
    "outputId": "0d2066a4-dab2-4501-b065-70425c09a719"
   },
   "outputs": [
    {
     "name": "stdout",
     "output_type": "stream",
     "text": [
      "0.7958333333333333\n"
     ]
    }
   ],
   "source": [
    "from sklearn.metrics import accuracy_score\n",
    "print(accuracy_score(y_test, y_pred))"
   ]
  },
  {
   "cell_type": "code",
   "execution_count": 57,
   "id": "SZrnI3LgNach",
   "metadata": {
    "colab": {
     "base_uri": "https://localhost:8080/"
    },
    "id": "SZrnI3LgNach",
    "outputId": "f2286349-e7a0-444a-d126-3b23f2940bf2"
   },
   "outputs": [
    {
     "name": "stdout",
     "output_type": "stream",
     "text": [
      " True positive: 139 (0.77%)\n",
      " True negative: 14186 (78.81%)\n",
      "False positive: 209 (1.16%)\n",
      "False negative: 3466 (19.26%)\n",
      "\n",
      "               precision    recall  f1-score   support\n",
      "\n",
      "loan rejected     0.8036    0.9855    0.8853     14395\n",
      "loan approved     0.3994    0.0386    0.0703      3605\n",
      "\n",
      "     accuracy                         0.7958     18000\n",
      "    macro avg     0.6015    0.5120    0.4778     18000\n",
      " weighted avg     0.7227    0.7958    0.7221     18000\n",
      "\n"
     ]
    }
   ],
   "source": [
    "print_metrics(y_test, y_pred)"
   ]
  },
  {
   "cell_type": "code",
   "execution_count": 58,
   "id": "Qf017QRXkYRh",
   "metadata": {
    "colab": {
     "base_uri": "https://localhost:8080/"
    },
    "id": "Qf017QRXkYRh",
    "outputId": "327b0feb-3227-4ee0-f49c-79cabd771869"
   },
   "outputs": [
    {
     "name": "stdout",
     "output_type": "stream",
     "text": [
      "[[14186   209]\n",
      " [ 3466   139]]\n"
     ]
    }
   ],
   "source": [
    "from sklearn.metrics import confusion_matrix\n",
    "print(confusion_matrix(y_test, y_pred))"
   ]
  },
  {
   "cell_type": "code",
   "execution_count": 59,
   "id": "WMPz5GVHPmJh",
   "metadata": {
    "colab": {
     "base_uri": "https://localhost:8080/",
     "height": 1000
    },
    "id": "WMPz5GVHPmJh",
    "outputId": "769c7470-18e2-4c22-ba8b-8ab473374298"
   },
   "outputs": [
    {
     "data": {
      "text/html": [
       "<div>\n",
       "<style scoped>\n",
       "    .dataframe tbody tr th:only-of-type {\n",
       "        vertical-align: middle;\n",
       "    }\n",
       "\n",
       "    .dataframe tbody tr th {\n",
       "        vertical-align: top;\n",
       "    }\n",
       "\n",
       "    .dataframe thead th {\n",
       "        text-align: right;\n",
       "    }\n",
       "</style>\n",
       "<table border=\"1\" class=\"dataframe\">\n",
       "  <thead>\n",
       "    <tr style=\"text-align: right;\">\n",
       "      <th></th>\n",
       "      <th>True</th>\n",
       "      <th>Predicted</th>\n",
       "    </tr>\n",
       "  </thead>\n",
       "  <tbody>\n",
       "    <tr>\n",
       "      <th>0</th>\n",
       "      <td>0.0</td>\n",
       "      <td>0.0</td>\n",
       "    </tr>\n",
       "    <tr>\n",
       "      <th>1</th>\n",
       "      <td>0.0</td>\n",
       "      <td>0.0</td>\n",
       "    </tr>\n",
       "    <tr>\n",
       "      <th>2</th>\n",
       "      <td>0.0</td>\n",
       "      <td>0.0</td>\n",
       "    </tr>\n",
       "    <tr>\n",
       "      <th>3</th>\n",
       "      <td>0.0</td>\n",
       "      <td>0.0</td>\n",
       "    </tr>\n",
       "    <tr>\n",
       "      <th>4</th>\n",
       "      <td>0.0</td>\n",
       "      <td>0.0</td>\n",
       "    </tr>\n",
       "    <tr>\n",
       "      <th>5</th>\n",
       "      <td>0.0</td>\n",
       "      <td>0.0</td>\n",
       "    </tr>\n",
       "    <tr>\n",
       "      <th>6</th>\n",
       "      <td>0.0</td>\n",
       "      <td>0.0</td>\n",
       "    </tr>\n",
       "    <tr>\n",
       "      <th>7</th>\n",
       "      <td>0.0</td>\n",
       "      <td>0.0</td>\n",
       "    </tr>\n",
       "    <tr>\n",
       "      <th>8</th>\n",
       "      <td>0.0</td>\n",
       "      <td>1.0</td>\n",
       "    </tr>\n",
       "    <tr>\n",
       "      <th>9</th>\n",
       "      <td>0.0</td>\n",
       "      <td>0.0</td>\n",
       "    </tr>\n",
       "    <tr>\n",
       "      <th>10</th>\n",
       "      <td>0.0</td>\n",
       "      <td>0.0</td>\n",
       "    </tr>\n",
       "    <tr>\n",
       "      <th>11</th>\n",
       "      <td>0.0</td>\n",
       "      <td>0.0</td>\n",
       "    </tr>\n",
       "    <tr>\n",
       "      <th>12</th>\n",
       "      <td>0.0</td>\n",
       "      <td>0.0</td>\n",
       "    </tr>\n",
       "    <tr>\n",
       "      <th>13</th>\n",
       "      <td>1.0</td>\n",
       "      <td>0.0</td>\n",
       "    </tr>\n",
       "    <tr>\n",
       "      <th>14</th>\n",
       "      <td>0.0</td>\n",
       "      <td>0.0</td>\n",
       "    </tr>\n",
       "    <tr>\n",
       "      <th>15</th>\n",
       "      <td>0.0</td>\n",
       "      <td>0.0</td>\n",
       "    </tr>\n",
       "    <tr>\n",
       "      <th>16</th>\n",
       "      <td>0.0</td>\n",
       "      <td>0.0</td>\n",
       "    </tr>\n",
       "    <tr>\n",
       "      <th>17</th>\n",
       "      <td>0.0</td>\n",
       "      <td>1.0</td>\n",
       "    </tr>\n",
       "    <tr>\n",
       "      <th>18</th>\n",
       "      <td>0.0</td>\n",
       "      <td>1.0</td>\n",
       "    </tr>\n",
       "    <tr>\n",
       "      <th>19</th>\n",
       "      <td>0.0</td>\n",
       "      <td>0.0</td>\n",
       "    </tr>\n",
       "    <tr>\n",
       "      <th>20</th>\n",
       "      <td>0.0</td>\n",
       "      <td>1.0</td>\n",
       "    </tr>\n",
       "    <tr>\n",
       "      <th>21</th>\n",
       "      <td>0.0</td>\n",
       "      <td>0.0</td>\n",
       "    </tr>\n",
       "    <tr>\n",
       "      <th>22</th>\n",
       "      <td>0.0</td>\n",
       "      <td>0.0</td>\n",
       "    </tr>\n",
       "    <tr>\n",
       "      <th>23</th>\n",
       "      <td>0.0</td>\n",
       "      <td>1.0</td>\n",
       "    </tr>\n",
       "    <tr>\n",
       "      <th>24</th>\n",
       "      <td>0.0</td>\n",
       "      <td>0.0</td>\n",
       "    </tr>\n",
       "    <tr>\n",
       "      <th>25</th>\n",
       "      <td>0.0</td>\n",
       "      <td>0.0</td>\n",
       "    </tr>\n",
       "    <tr>\n",
       "      <th>26</th>\n",
       "      <td>0.0</td>\n",
       "      <td>0.0</td>\n",
       "    </tr>\n",
       "    <tr>\n",
       "      <th>27</th>\n",
       "      <td>0.0</td>\n",
       "      <td>0.0</td>\n",
       "    </tr>\n",
       "    <tr>\n",
       "      <th>28</th>\n",
       "      <td>0.0</td>\n",
       "      <td>0.0</td>\n",
       "    </tr>\n",
       "    <tr>\n",
       "      <th>29</th>\n",
       "      <td>0.0</td>\n",
       "      <td>0.0</td>\n",
       "    </tr>\n",
       "    <tr>\n",
       "      <th>30</th>\n",
       "      <td>0.0</td>\n",
       "      <td>0.0</td>\n",
       "    </tr>\n",
       "    <tr>\n",
       "      <th>31</th>\n",
       "      <td>0.0</td>\n",
       "      <td>0.0</td>\n",
       "    </tr>\n",
       "    <tr>\n",
       "      <th>32</th>\n",
       "      <td>0.0</td>\n",
       "      <td>0.0</td>\n",
       "    </tr>\n",
       "    <tr>\n",
       "      <th>33</th>\n",
       "      <td>0.0</td>\n",
       "      <td>0.0</td>\n",
       "    </tr>\n",
       "    <tr>\n",
       "      <th>34</th>\n",
       "      <td>0.0</td>\n",
       "      <td>0.0</td>\n",
       "    </tr>\n",
       "    <tr>\n",
       "      <th>35</th>\n",
       "      <td>0.0</td>\n",
       "      <td>1.0</td>\n",
       "    </tr>\n",
       "    <tr>\n",
       "      <th>36</th>\n",
       "      <td>0.0</td>\n",
       "      <td>0.0</td>\n",
       "    </tr>\n",
       "    <tr>\n",
       "      <th>37</th>\n",
       "      <td>0.0</td>\n",
       "      <td>0.0</td>\n",
       "    </tr>\n",
       "    <tr>\n",
       "      <th>38</th>\n",
       "      <td>0.0</td>\n",
       "      <td>1.0</td>\n",
       "    </tr>\n",
       "    <tr>\n",
       "      <th>39</th>\n",
       "      <td>0.0</td>\n",
       "      <td>1.0</td>\n",
       "    </tr>\n",
       "    <tr>\n",
       "      <th>40</th>\n",
       "      <td>0.0</td>\n",
       "      <td>0.0</td>\n",
       "    </tr>\n",
       "    <tr>\n",
       "      <th>41</th>\n",
       "      <td>0.0</td>\n",
       "      <td>0.0</td>\n",
       "    </tr>\n",
       "    <tr>\n",
       "      <th>42</th>\n",
       "      <td>0.0</td>\n",
       "      <td>1.0</td>\n",
       "    </tr>\n",
       "    <tr>\n",
       "      <th>43</th>\n",
       "      <td>0.0</td>\n",
       "      <td>0.0</td>\n",
       "    </tr>\n",
       "    <tr>\n",
       "      <th>44</th>\n",
       "      <td>0.0</td>\n",
       "      <td>0.0</td>\n",
       "    </tr>\n",
       "    <tr>\n",
       "      <th>45</th>\n",
       "      <td>0.0</td>\n",
       "      <td>0.0</td>\n",
       "    </tr>\n",
       "    <tr>\n",
       "      <th>46</th>\n",
       "      <td>0.0</td>\n",
       "      <td>1.0</td>\n",
       "    </tr>\n",
       "    <tr>\n",
       "      <th>47</th>\n",
       "      <td>0.0</td>\n",
       "      <td>0.0</td>\n",
       "    </tr>\n",
       "    <tr>\n",
       "      <th>48</th>\n",
       "      <td>0.0</td>\n",
       "      <td>0.0</td>\n",
       "    </tr>\n",
       "    <tr>\n",
       "      <th>49</th>\n",
       "      <td>0.0</td>\n",
       "      <td>0.0</td>\n",
       "    </tr>\n",
       "  </tbody>\n",
       "</table>\n",
       "</div>"
      ],
      "text/plain": [
       "    True  Predicted\n",
       "0    0.0        0.0\n",
       "1    0.0        0.0\n",
       "2    0.0        0.0\n",
       "3    0.0        0.0\n",
       "4    0.0        0.0\n",
       "5    0.0        0.0\n",
       "6    0.0        0.0\n",
       "7    0.0        0.0\n",
       "8    0.0        1.0\n",
       "9    0.0        0.0\n",
       "10   0.0        0.0\n",
       "11   0.0        0.0\n",
       "12   0.0        0.0\n",
       "13   1.0        0.0\n",
       "14   0.0        0.0\n",
       "15   0.0        0.0\n",
       "16   0.0        0.0\n",
       "17   0.0        1.0\n",
       "18   0.0        1.0\n",
       "19   0.0        0.0\n",
       "20   0.0        1.0\n",
       "21   0.0        0.0\n",
       "22   0.0        0.0\n",
       "23   0.0        1.0\n",
       "24   0.0        0.0\n",
       "25   0.0        0.0\n",
       "26   0.0        0.0\n",
       "27   0.0        0.0\n",
       "28   0.0        0.0\n",
       "29   0.0        0.0\n",
       "30   0.0        0.0\n",
       "31   0.0        0.0\n",
       "32   0.0        0.0\n",
       "33   0.0        0.0\n",
       "34   0.0        0.0\n",
       "35   0.0        1.0\n",
       "36   0.0        0.0\n",
       "37   0.0        0.0\n",
       "38   0.0        1.0\n",
       "39   0.0        1.0\n",
       "40   0.0        0.0\n",
       "41   0.0        0.0\n",
       "42   0.0        1.0\n",
       "43   0.0        0.0\n",
       "44   0.0        0.0\n",
       "45   0.0        0.0\n",
       "46   0.0        1.0\n",
       "47   0.0        0.0\n",
       "48   0.0        0.0\n",
       "49   0.0        0.0"
      ]
     },
     "execution_count": 59,
     "metadata": {},
     "output_type": "execute_result"
    }
   ],
   "source": [
    "results = np.concatenate((y_pred.reshape(len(y_pred), 1), y_test.reshape(len(y_test), 1)), axis=1)\n",
    "new_dataset = pd.DataFrame(results, columns=['True', 'Predicted'])\n",
    "new_dataset.head(50)"
   ]
  },
  {
   "cell_type": "markdown",
   "id": "3FXsd4nCW4Kx",
   "metadata": {
    "id": "3FXsd4nCW4Kx"
   },
   "source": [
    "Artificial Neural Network"
   ]
  },
  {
   "cell_type": "code",
   "execution_count": 60,
   "id": "PoDXCWNbspNv",
   "metadata": {
    "id": "PoDXCWNbspNv"
   },
   "outputs": [
    {
     "name": "stderr",
     "output_type": "stream",
     "text": [
      "Using TensorFlow backend.\n"
     ]
    }
   ],
   "source": [
    "from keras.wrappers.scikit_learn import KerasClassifier\n",
    "import tensorflow as tf\n",
    "\n",
    "def build_model():\n",
    "    classifier = tf.keras.models.Sequential()\n",
    "    classifier.add(tf.keras.layers.Dense(8, activation='relu'))\n",
    "    classifier.add(tf.keras.layers.Dense(1, activation='sigmoid'))\n",
    "    classifier.compile(optimizer='adam', loss='binary_crossentropy', metrics=['accuracy'])\n",
    "    return classifier"
   ]
  },
  {
   "cell_type": "code",
   "execution_count": 61,
   "id": "yCmQp3oWtdeR",
   "metadata": {
    "colab": {
     "base_uri": "https://localhost:8080/"
    },
    "id": "yCmQp3oWtdeR",
    "outputId": "1959d608-b146-4f17-9adc-40147e4766fd"
   },
   "outputs": [
    {
     "name": "stdout",
     "output_type": "stream",
     "text": [
      "WARNING:tensorflow:From C:\\Users\\Jarvis\\anaconda3\\lib\\site-packages\\tensorflow\\python\\ops\\init_ops.py:1251: calling VarianceScaling.__init__ (from tensorflow.python.ops.init_ops) with dtype is deprecated and will be removed in a future version.\n",
      "Instructions for updating:\n",
      "Call initializer instance with the dtype argument instead of passing it to the constructor\n",
      "WARNING:tensorflow:From C:\\Users\\Jarvis\\anaconda3\\lib\\site-packages\\tensorflow\\python\\ops\\nn_impl.py:180: add_dispatch_support.<locals>.wrapper (from tensorflow.python.ops.array_ops) is deprecated and will be removed in a future version.\n",
      "Instructions for updating:\n",
      "Use tf.where in 2.0, which has the same broadcast rule as np.where\n",
      "Epoch 1/30\n",
      "72000/72000 [==============================] - 1s 12us/sample - loss: 0.4936 - acc: 0.7951\n",
      "Epoch 2/30\n",
      "72000/72000 [==============================] - 1s 11us/sample - loss: 0.4811 - acc: 0.7996\n",
      "Epoch 3/30\n",
      "72000/72000 [==============================] - 1s 11us/sample - loss: 0.4790 - acc: 0.7997\n",
      "Epoch 4/30\n",
      "72000/72000 [==============================] - 1s 11us/sample - loss: 0.4779 - acc: 0.7998\n",
      "Epoch 5/30\n",
      "72000/72000 [==============================] - 1s 11us/sample - loss: 0.4776 - acc: 0.79980s - loss: 0.4777 - acc: 0.7\n",
      "Epoch 6/30\n",
      "72000/72000 [==============================] - 1s 11us/sample - loss: 0.4771 - acc: 0.7997\n",
      "Epoch 7/30\n",
      "72000/72000 [==============================] - 1s 11us/sample - loss: 0.4768 - acc: 0.7998\n",
      "Epoch 8/30\n",
      "72000/72000 [==============================] - 1s 11us/sample - loss: 0.4765 - acc: 0.7998\n",
      "Epoch 9/30\n",
      "72000/72000 [==============================] - 1s 11us/sample - loss: 0.4764 - acc: 0.7997\n",
      "Epoch 10/30\n",
      "72000/72000 [==============================] - 1s 11us/sample - loss: 0.4762 - acc: 0.79980s - loss: 0.4757 - ac\n",
      "Epoch 11/30\n",
      "72000/72000 [==============================] - 1s 11us/sample - loss: 0.4759 - acc: 0.7999\n",
      "Epoch 12/30\n",
      "72000/72000 [==============================] - 1s 11us/sample - loss: 0.4760 - acc: 0.7997\n",
      "Epoch 13/30\n",
      "72000/72000 [==============================] - 1s 11us/sample - loss: 0.4757 - acc: 0.7998\n",
      "Epoch 14/30\n",
      "72000/72000 [==============================] - 1s 12us/sample - loss: 0.4757 - acc: 0.79970s - loss: 0.4786 - a\n",
      "Epoch 15/30\n",
      "72000/72000 [==============================] - 1s 11us/sample - loss: 0.4756 - acc: 0.7997\n",
      "Epoch 16/30\n",
      "72000/72000 [==============================] - 1s 13us/sample - loss: 0.4754 - acc: 0.7997\n",
      "Epoch 17/30\n",
      "72000/72000 [==============================] - 1s 11us/sample - loss: 0.4754 - acc: 0.7999\n",
      "Epoch 18/30\n",
      "72000/72000 [==============================] - 1s 11us/sample - loss: 0.4753 - acc: 0.7998\n",
      "Epoch 19/30\n",
      "72000/72000 [==============================] - 1s 11us/sample - loss: 0.4753 - acc: 0.7998\n",
      "Epoch 20/30\n",
      "72000/72000 [==============================] - 1s 10us/sample - loss: 0.4753 - acc: 0.7999\n",
      "Epoch 21/30\n",
      "72000/72000 [==============================] - 1s 11us/sample - loss: 0.4751 - acc: 0.7999\n",
      "Epoch 22/30\n",
      "72000/72000 [==============================] - 1s 11us/sample - loss: 0.4752 - acc: 0.8000\n",
      "Epoch 23/30\n",
      "72000/72000 [==============================] - 1s 11us/sample - loss: 0.4751 - acc: 0.8000\n",
      "Epoch 24/30\n",
      "72000/72000 [==============================] - 1s 13us/sample - loss: 0.4749 - acc: 0.8000\n",
      "Epoch 25/30\n",
      "72000/72000 [==============================] - 1s 11us/sample - loss: 0.4751 - acc: 0.8000\n",
      "Epoch 26/30\n",
      "72000/72000 [==============================] - 1s 12us/sample - loss: 0.4750 - acc: 0.8000\n",
      "Epoch 27/30\n",
      "72000/72000 [==============================] - 1s 11us/sample - loss: 0.4750 - acc: 0.8000\n",
      "Epoch 28/30\n",
      "72000/72000 [==============================] - 1s 11us/sample - loss: 0.4749 - acc: 0.7999\n",
      "Epoch 29/30\n",
      "72000/72000 [==============================] - 1s 12us/sample - loss: 0.4749 - acc: 0.80000s - loss: 0.4733 \n",
      "Epoch 30/30\n",
      "72000/72000 [==============================] - 1s 12us/sample - loss: 0.4749 - acc: 0.8000\n"
     ]
    },
    {
     "data": {
      "text/plain": [
       "<tensorflow.python.keras.callbacks.History at 0x26c64b61b48>"
      ]
     },
     "execution_count": 61,
     "metadata": {},
     "output_type": "execute_result"
    }
   ],
   "source": [
    "classifier = build_model()\n",
    "classifier.fit(X_train, y_train, epochs=30, batch_size=50, verbose=1)"
   ]
  },
  {
   "cell_type": "code",
   "execution_count": 63,
   "id": "9zpMVW8GtvGB",
   "metadata": {
    "colab": {
     "base_uri": "https://localhost:8080/",
     "height": 404
    },
    "id": "9zpMVW8GtvGB",
    "outputId": "3f9cdb1e-ee78-4f17-8b36-ab256ab38f6c"
   },
   "outputs": [
    {
     "data": {
      "image/png": "[encoded data removed]",
      "text/plain": [
       "<Figure size 1008x432 with 1 Axes>"
      ]
     },
     "metadata": {
      "needs_background": "light"
     },
     "output_type": "display_data"
    }
   ],
   "source": [
    "import sklearn.metrics as metrics\n",
    "\n",
    "# calculate the fpr and tpr for all thresholds of the classification\n",
    "y_pred = classifier.predict(X_test).ravel()\n",
    "# Get the true positive, false positive, and thresholds.\n",
    "fpr_keras, tpr_keras, thresholds = metrics.roc_curve(y_test, y_pred)\n",
    "\n",
    "roc_auc = metrics.auc(fpr, tpr)\n",
    "\n",
    "# Plot FPR against TPR\n",
    "plt.figure(figsize=(14, 6))\n",
    "plt.plot([0, 1], [0, 1], 'r--')\n",
    "plt.xlim([0, 1])\n",
    "plt.ylim([0, 1])\n",
    "plt.plot(fpr_keras, tpr_keras, 'b', label = 'AUC = %0.2f' % roc_auc)\n",
    "plt.title('AUC Plot')\n",
    "plt.xlabel('False Positive Rate')\n",
    "plt.ylabel('True Positive Rate')\n",
    "plt.legend(loc='lower right')\n",
    "plt.show()"
   ]
  },
  {
   "cell_type": "code",
   "execution_count": 64,
   "id": "NeS02Pf6ZFlW",
   "metadata": {
    "id": "NeS02Pf6ZFlW"
   },
   "outputs": [],
   "source": [
    "y_pred = classifier.predict(X_test)\n",
    "y_pred = y_pred > 0.3\n",
    "y_pred = y_pred.reshape(len(y_pred))"
   ]
  },
  {
   "cell_type": "code",
   "execution_count": 65,
   "id": "egrFOyS0ZKu3",
   "metadata": {
    "colab": {
     "base_uri": "https://localhost:8080/"
    },
    "id": "egrFOyS0ZKu3",
    "outputId": "40fc772b-cc51-444c-ae4f-87f177e714fa"
   },
   "outputs": [
    {
     "name": "stdout",
     "output_type": "stream",
     "text": [
      "74.98%\n"
     ]
    }
   ],
   "source": [
    "from sklearn.metrics import accuracy_score\n",
    "print('{:.2f}%'.format(accuracy_score(y_test, y_pred)*100))"
   ]
  },
  {
   "cell_type": "code",
   "execution_count": 66,
   "id": "F8lU6ROtcL2q",
   "metadata": {
    "colab": {
     "base_uri": "https://localhost:8080/"
    },
    "id": "F8lU6ROtcL2q",
    "outputId": "ebef7bf2-f027-4466-bc63-ce8503cad933"
   },
   "outputs": [
    {
     "name": "stdout",
     "output_type": "stream",
     "text": [
      " True positive: 1092 (6.07%)\n",
      " True negative: 12405 (68.92%)\n",
      "False positive: 1990 (11.06%)\n",
      "False negative: 2513 (13.96%)\n",
      "\n",
      "               precision    recall  f1-score   support\n",
      "\n",
      "loan rejected     0.8315    0.8618    0.8464     14395\n",
      "loan approved     0.3543    0.3029    0.3266      3605\n",
      "\n",
      "     accuracy                         0.7498     18000\n",
      "    macro avg     0.5929    0.5823    0.5865     18000\n",
      " weighted avg     0.7360    0.7498    0.7423     18000\n",
      "\n"
     ]
    }
   ],
   "source": [
    "print_metrics(y_test, y_pred)"
   ]
  },
  {
   "cell_type": "code",
   "execution_count": 67,
   "id": "yyOBnwp5cUO-",
   "metadata": {
    "colab": {
     "base_uri": "https://localhost:8080/"
    },
    "id": "yyOBnwp5cUO-",
    "outputId": "a47c209f-8c22-4c1f-b8c0-86279122add1"
   },
   "outputs": [
    {
     "name": "stdout",
     "output_type": "stream",
     "text": [
      "[[12405  1990]\n",
      " [ 2513  1092]]\n"
     ]
    }
   ],
   "source": [
    "from sklearn.metrics import confusion_matrix\n",
    "print(confusion_matrix(y_test, y_pred))"
   ]
  },
  {
   "cell_type": "code",
   "execution_count": 68,
   "id": "9xbglRuOcWzB",
   "metadata": {
    "colab": {
     "base_uri": "https://localhost:8080/",
     "height": 1000
    },
    "id": "9xbglRuOcWzB",
    "outputId": "8970d0b3-2474-4611-9d8f-60b93ecb16fb"
   },
   "outputs": [
    {
     "data": {
      "text/html": [
       "<div>\n",
       "<style scoped>\n",
       "    .dataframe tbody tr th:only-of-type {\n",
       "        vertical-align: middle;\n",
       "    }\n",
       "\n",
       "    .dataframe tbody tr th {\n",
       "        vertical-align: top;\n",
       "    }\n",
       "\n",
       "    .dataframe thead th {\n",
       "        text-align: right;\n",
       "    }\n",
       "</style>\n",
       "<table border=\"1\" class=\"dataframe\">\n",
       "  <thead>\n",
       "    <tr style=\"text-align: right;\">\n",
       "      <th></th>\n",
       "      <th>True</th>\n",
       "      <th>Predicted</th>\n",
       "    </tr>\n",
       "  </thead>\n",
       "  <tbody>\n",
       "    <tr>\n",
       "      <th>0</th>\n",
       "      <td>0.0</td>\n",
       "      <td>0.0</td>\n",
       "    </tr>\n",
       "    <tr>\n",
       "      <th>1</th>\n",
       "      <td>0.0</td>\n",
       "      <td>0.0</td>\n",
       "    </tr>\n",
       "    <tr>\n",
       "      <th>2</th>\n",
       "      <td>0.0</td>\n",
       "      <td>0.0</td>\n",
       "    </tr>\n",
       "    <tr>\n",
       "      <th>3</th>\n",
       "      <td>0.0</td>\n",
       "      <td>0.0</td>\n",
       "    </tr>\n",
       "    <tr>\n",
       "      <th>4</th>\n",
       "      <td>0.0</td>\n",
       "      <td>0.0</td>\n",
       "    </tr>\n",
       "    <tr>\n",
       "      <th>5</th>\n",
       "      <td>0.0</td>\n",
       "      <td>0.0</td>\n",
       "    </tr>\n",
       "    <tr>\n",
       "      <th>6</th>\n",
       "      <td>1.0</td>\n",
       "      <td>0.0</td>\n",
       "    </tr>\n",
       "    <tr>\n",
       "      <th>7</th>\n",
       "      <td>0.0</td>\n",
       "      <td>0.0</td>\n",
       "    </tr>\n",
       "    <tr>\n",
       "      <th>8</th>\n",
       "      <td>1.0</td>\n",
       "      <td>1.0</td>\n",
       "    </tr>\n",
       "    <tr>\n",
       "      <th>9</th>\n",
       "      <td>1.0</td>\n",
       "      <td>0.0</td>\n",
       "    </tr>\n",
       "    <tr>\n",
       "      <th>10</th>\n",
       "      <td>0.0</td>\n",
       "      <td>0.0</td>\n",
       "    </tr>\n",
       "    <tr>\n",
       "      <th>11</th>\n",
       "      <td>0.0</td>\n",
       "      <td>0.0</td>\n",
       "    </tr>\n",
       "    <tr>\n",
       "      <th>12</th>\n",
       "      <td>1.0</td>\n",
       "      <td>0.0</td>\n",
       "    </tr>\n",
       "    <tr>\n",
       "      <th>13</th>\n",
       "      <td>1.0</td>\n",
       "      <td>0.0</td>\n",
       "    </tr>\n",
       "    <tr>\n",
       "      <th>14</th>\n",
       "      <td>0.0</td>\n",
       "      <td>0.0</td>\n",
       "    </tr>\n",
       "    <tr>\n",
       "      <th>15</th>\n",
       "      <td>1.0</td>\n",
       "      <td>0.0</td>\n",
       "    </tr>\n",
       "    <tr>\n",
       "      <th>16</th>\n",
       "      <td>1.0</td>\n",
       "      <td>0.0</td>\n",
       "    </tr>\n",
       "    <tr>\n",
       "      <th>17</th>\n",
       "      <td>0.0</td>\n",
       "      <td>1.0</td>\n",
       "    </tr>\n",
       "    <tr>\n",
       "      <th>18</th>\n",
       "      <td>1.0</td>\n",
       "      <td>1.0</td>\n",
       "    </tr>\n",
       "    <tr>\n",
       "      <th>19</th>\n",
       "      <td>0.0</td>\n",
       "      <td>0.0</td>\n",
       "    </tr>\n",
       "    <tr>\n",
       "      <th>20</th>\n",
       "      <td>1.0</td>\n",
       "      <td>1.0</td>\n",
       "    </tr>\n",
       "    <tr>\n",
       "      <th>21</th>\n",
       "      <td>0.0</td>\n",
       "      <td>0.0</td>\n",
       "    </tr>\n",
       "    <tr>\n",
       "      <th>22</th>\n",
       "      <td>0.0</td>\n",
       "      <td>0.0</td>\n",
       "    </tr>\n",
       "    <tr>\n",
       "      <th>23</th>\n",
       "      <td>0.0</td>\n",
       "      <td>1.0</td>\n",
       "    </tr>\n",
       "    <tr>\n",
       "      <th>24</th>\n",
       "      <td>0.0</td>\n",
       "      <td>0.0</td>\n",
       "    </tr>\n",
       "    <tr>\n",
       "      <th>25</th>\n",
       "      <td>0.0</td>\n",
       "      <td>0.0</td>\n",
       "    </tr>\n",
       "    <tr>\n",
       "      <th>26</th>\n",
       "      <td>0.0</td>\n",
       "      <td>0.0</td>\n",
       "    </tr>\n",
       "    <tr>\n",
       "      <th>27</th>\n",
       "      <td>0.0</td>\n",
       "      <td>0.0</td>\n",
       "    </tr>\n",
       "    <tr>\n",
       "      <th>28</th>\n",
       "      <td>0.0</td>\n",
       "      <td>0.0</td>\n",
       "    </tr>\n",
       "    <tr>\n",
       "      <th>29</th>\n",
       "      <td>0.0</td>\n",
       "      <td>0.0</td>\n",
       "    </tr>\n",
       "    <tr>\n",
       "      <th>30</th>\n",
       "      <td>0.0</td>\n",
       "      <td>0.0</td>\n",
       "    </tr>\n",
       "    <tr>\n",
       "      <th>31</th>\n",
       "      <td>1.0</td>\n",
       "      <td>0.0</td>\n",
       "    </tr>\n",
       "    <tr>\n",
       "      <th>32</th>\n",
       "      <td>0.0</td>\n",
       "      <td>0.0</td>\n",
       "    </tr>\n",
       "    <tr>\n",
       "      <th>33</th>\n",
       "      <td>0.0</td>\n",
       "      <td>0.0</td>\n",
       "    </tr>\n",
       "    <tr>\n",
       "      <th>34</th>\n",
       "      <td>0.0</td>\n",
       "      <td>0.0</td>\n",
       "    </tr>\n",
       "    <tr>\n",
       "      <th>35</th>\n",
       "      <td>0.0</td>\n",
       "      <td>1.0</td>\n",
       "    </tr>\n",
       "    <tr>\n",
       "      <th>36</th>\n",
       "      <td>0.0</td>\n",
       "      <td>0.0</td>\n",
       "    </tr>\n",
       "    <tr>\n",
       "      <th>37</th>\n",
       "      <td>0.0</td>\n",
       "      <td>0.0</td>\n",
       "    </tr>\n",
       "    <tr>\n",
       "      <th>38</th>\n",
       "      <td>0.0</td>\n",
       "      <td>1.0</td>\n",
       "    </tr>\n",
       "    <tr>\n",
       "      <th>39</th>\n",
       "      <td>0.0</td>\n",
       "      <td>1.0</td>\n",
       "    </tr>\n",
       "    <tr>\n",
       "      <th>40</th>\n",
       "      <td>0.0</td>\n",
       "      <td>0.0</td>\n",
       "    </tr>\n",
       "    <tr>\n",
       "      <th>41</th>\n",
       "      <td>0.0</td>\n",
       "      <td>0.0</td>\n",
       "    </tr>\n",
       "    <tr>\n",
       "      <th>42</th>\n",
       "      <td>0.0</td>\n",
       "      <td>1.0</td>\n",
       "    </tr>\n",
       "    <tr>\n",
       "      <th>43</th>\n",
       "      <td>0.0</td>\n",
       "      <td>0.0</td>\n",
       "    </tr>\n",
       "    <tr>\n",
       "      <th>44</th>\n",
       "      <td>0.0</td>\n",
       "      <td>0.0</td>\n",
       "    </tr>\n",
       "    <tr>\n",
       "      <th>45</th>\n",
       "      <td>0.0</td>\n",
       "      <td>0.0</td>\n",
       "    </tr>\n",
       "    <tr>\n",
       "      <th>46</th>\n",
       "      <td>1.0</td>\n",
       "      <td>1.0</td>\n",
       "    </tr>\n",
       "    <tr>\n",
       "      <th>47</th>\n",
       "      <td>1.0</td>\n",
       "      <td>0.0</td>\n",
       "    </tr>\n",
       "    <tr>\n",
       "      <th>48</th>\n",
       "      <td>0.0</td>\n",
       "      <td>0.0</td>\n",
       "    </tr>\n",
       "    <tr>\n",
       "      <th>49</th>\n",
       "      <td>0.0</td>\n",
       "      <td>0.0</td>\n",
       "    </tr>\n",
       "  </tbody>\n",
       "</table>\n",
       "</div>"
      ],
      "text/plain": [
       "    True  Predicted\n",
       "0    0.0        0.0\n",
       "1    0.0        0.0\n",
       "2    0.0        0.0\n",
       "3    0.0        0.0\n",
       "4    0.0        0.0\n",
       "5    0.0        0.0\n",
       "6    1.0        0.0\n",
       "7    0.0        0.0\n",
       "8    1.0        1.0\n",
       "9    1.0        0.0\n",
       "10   0.0        0.0\n",
       "11   0.0        0.0\n",
       "12   1.0        0.0\n",
       "13   1.0        0.0\n",
       "14   0.0        0.0\n",
       "15   1.0        0.0\n",
       "16   1.0        0.0\n",
       "17   0.0        1.0\n",
       "18   1.0        1.0\n",
       "19   0.0        0.0\n",
       "20   1.0        1.0\n",
       "21   0.0        0.0\n",
       "22   0.0        0.0\n",
       "23   0.0        1.0\n",
       "24   0.0        0.0\n",
       "25   0.0        0.0\n",
       "26   0.0        0.0\n",
       "27   0.0        0.0\n",
       "28   0.0        0.0\n",
       "29   0.0        0.0\n",
       "30   0.0        0.0\n",
       "31   1.0        0.0\n",
       "32   0.0        0.0\n",
       "33   0.0        0.0\n",
       "34   0.0        0.0\n",
       "35   0.0        1.0\n",
       "36   0.0        0.0\n",
       "37   0.0        0.0\n",
       "38   0.0        1.0\n",
       "39   0.0        1.0\n",
       "40   0.0        0.0\n",
       "41   0.0        0.0\n",
       "42   0.0        1.0\n",
       "43   0.0        0.0\n",
       "44   0.0        0.0\n",
       "45   0.0        0.0\n",
       "46   1.0        1.0\n",
       "47   1.0        0.0\n",
       "48   0.0        0.0\n",
       "49   0.0        0.0"
      ]
     },
     "execution_count": 68,
     "metadata": {},
     "output_type": "execute_result"
    }
   ],
   "source": [
    "results = np.concatenate((y_pred.reshape(len(y_pred), 1), y_test.reshape(len(y_test), 1)), axis=1)\n",
    "new_dataset = pd.DataFrame(results, columns=['True', 'Predicted'])\n",
    "new_dataset.head(50)"
   ]
  },
  {
   "cell_type": "markdown",
   "id": "FPBryceiofJ6",
   "metadata": {
    "id": "FPBryceiofJ6"
   },
   "source": [
    "Predicting 10000 Instances Without Labels"
   ]
  },
  {
   "cell_type": "code",
   "execution_count": 69,
   "id": "T7PY28O5o6dj",
   "metadata": {
    "id": "T7PY28O5o6dj"
   },
   "outputs": [],
   "source": [
    "df_predict.drop('loan_default', axis=1, inplace=True)"
   ]
  },
  {
   "cell_type": "code",
   "execution_count": 70,
   "id": "ImcYkFvKoX1E",
   "metadata": {
    "id": "ImcYkFvKoX1E"
   },
   "outputs": [],
   "source": [
    "loan_default = classifier.predict(scaler.transform(df_predict))\n",
    "loan_default = loan_default > 0.3\n",
    "loan_default = loan_default.reshape(len(loan_default))"
   ]
  },
  {
   "cell_type": "code",
   "execution_count": 71,
   "id": "m4OQI5BNrM3K",
   "metadata": {
    "id": "m4OQI5BNrM3K"
   },
   "outputs": [],
   "source": [
    "loan_default = 1 * loan_default"
   ]
  },
  {
   "cell_type": "code",
   "execution_count": 72,
   "id": "35Yxz2jZpFIE",
   "metadata": {
    "id": "35Yxz2jZpFIE"
   },
   "outputs": [],
   "source": [
    "df_predict['loan_default'] = loan_default"
   ]
  },
  {
   "cell_type": "code",
   "execution_count": 73,
   "id": "OB3BLVITpjQL",
   "metadata": {
    "colab": {
     "base_uri": "https://localhost:8080/",
     "height": 1000
    },
    "id": "OB3BLVITpjQL",
    "outputId": "3edf8276-a058-4fb2-8b41-00467293ec11"
   },
   "outputs": [
    {
     "data": {
      "text/html": [
       "<div>\n",
       "<style scoped>\n",
       "    .dataframe tbody tr th:only-of-type {\n",
       "        vertical-align: middle;\n",
       "    }\n",
       "\n",
       "    .dataframe tbody tr th {\n",
       "        vertical-align: top;\n",
       "    }\n",
       "\n",
       "    .dataframe thead th {\n",
       "        text-align: right;\n",
       "    }\n",
       "</style>\n",
       "<table border=\"1\" class=\"dataframe\">\n",
       "  <thead>\n",
       "    <tr style=\"text-align: right;\">\n",
       "      <th></th>\n",
       "      <th>loan_amount</th>\n",
       "      <th>asset_cost</th>\n",
       "      <th>loan_to_value</th>\n",
       "      <th>customer_age</th>\n",
       "      <th>credit_score</th>\n",
       "      <th>credit_inquiries</th>\n",
       "      <th>total_credit_accounts</th>\n",
       "      <th>credit_history_length</th>\n",
       "      <th>active_credit_accounts</th>\n",
       "      <th>overdue_credit_accounts</th>\n",
       "      <th>total_current_balance</th>\n",
       "      <th>recent_loans</th>\n",
       "      <th>recent_defaulted_loans</th>\n",
       "      <th>loan_default</th>\n",
       "    </tr>\n",
       "    <tr>\n",
       "      <th>loan_id</th>\n",
       "      <th></th>\n",
       "      <th></th>\n",
       "      <th></th>\n",
       "      <th></th>\n",
       "      <th></th>\n",
       "      <th></th>\n",
       "      <th></th>\n",
       "      <th></th>\n",
       "      <th></th>\n",
       "      <th></th>\n",
       "      <th></th>\n",
       "      <th></th>\n",
       "      <th></th>\n",
       "      <th></th>\n",
       "    </tr>\n",
       "  </thead>\n",
       "  <tbody>\n",
       "    <tr>\n",
       "      <th>90001</th>\n",
       "      <td>11.061940</td>\n",
       "      <td>11.439279</td>\n",
       "      <td>1.985757</td>\n",
       "      <td>3.367296</td>\n",
       "      <td>6.595781</td>\n",
       "      <td>0.000000</td>\n",
       "      <td>0.000000</td>\n",
       "      <td>0.733809</td>\n",
       "      <td>0.693147</td>\n",
       "      <td>0.000000</td>\n",
       "      <td>0.000000</td>\n",
       "      <td>0.000000</td>\n",
       "      <td>0.000000</td>\n",
       "      <td>0</td>\n",
       "    </tr>\n",
       "    <tr>\n",
       "      <th>90002</th>\n",
       "      <td>10.898589</td>\n",
       "      <td>11.194097</td>\n",
       "      <td>2.104336</td>\n",
       "      <td>3.526361</td>\n",
       "      <td>6.122493</td>\n",
       "      <td>0.000000</td>\n",
       "      <td>1.098612</td>\n",
       "      <td>2.003775</td>\n",
       "      <td>1.386294</td>\n",
       "      <td>0.693147</td>\n",
       "      <td>12.589296</td>\n",
       "      <td>0.693147</td>\n",
       "      <td>0.693147</td>\n",
       "      <td>0</td>\n",
       "    </tr>\n",
       "    <tr>\n",
       "      <th>90003</th>\n",
       "      <td>10.855145</td>\n",
       "      <td>11.042922</td>\n",
       "      <td>2.291027</td>\n",
       "      <td>3.401197</td>\n",
       "      <td>6.335054</td>\n",
       "      <td>0.000000</td>\n",
       "      <td>1.098612</td>\n",
       "      <td>1.658228</td>\n",
       "      <td>1.098612</td>\n",
       "      <td>0.693147</td>\n",
       "      <td>10.868587</td>\n",
       "      <td>0.693147</td>\n",
       "      <td>0.693147</td>\n",
       "      <td>1</td>\n",
       "    </tr>\n",
       "    <tr>\n",
       "      <th>90004</th>\n",
       "      <td>11.033275</td>\n",
       "      <td>11.164785</td>\n",
       "      <td>2.403678</td>\n",
       "      <td>3.828641</td>\n",
       "      <td>6.562444</td>\n",
       "      <td>0.000000</td>\n",
       "      <td>0.000000</td>\n",
       "      <td>0.405465</td>\n",
       "      <td>0.693147</td>\n",
       "      <td>0.000000</td>\n",
       "      <td>8.101981</td>\n",
       "      <td>0.000000</td>\n",
       "      <td>0.000000</td>\n",
       "      <td>0</td>\n",
       "    </tr>\n",
       "    <tr>\n",
       "      <th>90005</th>\n",
       "      <td>10.555813</td>\n",
       "      <td>11.077516</td>\n",
       "      <td>1.811219</td>\n",
       "      <td>3.688879</td>\n",
       "      <td>5.703782</td>\n",
       "      <td>0.000000</td>\n",
       "      <td>1.386294</td>\n",
       "      <td>1.673914</td>\n",
       "      <td>1.098612</td>\n",
       "      <td>1.098612</td>\n",
       "      <td>12.481433</td>\n",
       "      <td>0.000000</td>\n",
       "      <td>0.000000</td>\n",
       "      <td>0</td>\n",
       "    </tr>\n",
       "    <tr>\n",
       "      <th>90006</th>\n",
       "      <td>11.058795</td>\n",
       "      <td>11.401994</td>\n",
       "      <td>2.031958</td>\n",
       "      <td>3.713572</td>\n",
       "      <td>6.391917</td>\n",
       "      <td>0.000000</td>\n",
       "      <td>2.890372</td>\n",
       "      <td>1.299374</td>\n",
       "      <td>1.945910</td>\n",
       "      <td>0.000000</td>\n",
       "      <td>13.196359</td>\n",
       "      <td>0.693147</td>\n",
       "      <td>0.000000</td>\n",
       "      <td>0</td>\n",
       "    </tr>\n",
       "    <tr>\n",
       "      <th>90007</th>\n",
       "      <td>10.893029</td>\n",
       "      <td>11.071315</td>\n",
       "      <td>2.309428</td>\n",
       "      <td>3.218876</td>\n",
       "      <td>6.670766</td>\n",
       "      <td>0.000000</td>\n",
       "      <td>0.000000</td>\n",
       "      <td>0.948952</td>\n",
       "      <td>0.000000</td>\n",
       "      <td>0.000000</td>\n",
       "      <td>0.000000</td>\n",
       "      <td>0.000000</td>\n",
       "      <td>0.693147</td>\n",
       "      <td>1</td>\n",
       "    </tr>\n",
       "    <tr>\n",
       "      <th>90008</th>\n",
       "      <td>10.902280</td>\n",
       "      <td>11.115429</td>\n",
       "      <td>2.243417</td>\n",
       "      <td>3.637586</td>\n",
       "      <td>6.605298</td>\n",
       "      <td>1.098612</td>\n",
       "      <td>0.000000</td>\n",
       "      <td>1.011601</td>\n",
       "      <td>0.693147</td>\n",
       "      <td>0.000000</td>\n",
       "      <td>13.427789</td>\n",
       "      <td>0.000000</td>\n",
       "      <td>0.000000</td>\n",
       "      <td>0</td>\n",
       "    </tr>\n",
       "    <tr>\n",
       "      <th>90009</th>\n",
       "      <td>10.973357</td>\n",
       "      <td>11.174652</td>\n",
       "      <td>2.265963</td>\n",
       "      <td>3.295837</td>\n",
       "      <td>6.670766</td>\n",
       "      <td>0.000000</td>\n",
       "      <td>0.000000</td>\n",
       "      <td>0.882527</td>\n",
       "      <td>0.000000</td>\n",
       "      <td>0.000000</td>\n",
       "      <td>0.000000</td>\n",
       "      <td>0.000000</td>\n",
       "      <td>0.000000</td>\n",
       "      <td>0</td>\n",
       "    </tr>\n",
       "    <tr>\n",
       "      <th>90010</th>\n",
       "      <td>10.413313</td>\n",
       "      <td>11.189962</td>\n",
       "      <td>1.584074</td>\n",
       "      <td>3.737670</td>\n",
       "      <td>6.159095</td>\n",
       "      <td>1.386294</td>\n",
       "      <td>0.693147</td>\n",
       "      <td>0.882527</td>\n",
       "      <td>0.693147</td>\n",
       "      <td>0.693147</td>\n",
       "      <td>11.219909</td>\n",
       "      <td>0.000000</td>\n",
       "      <td>0.000000</td>\n",
       "      <td>0</td>\n",
       "    </tr>\n",
       "    <tr>\n",
       "      <th>90011</th>\n",
       "      <td>10.841540</td>\n",
       "      <td>11.065075</td>\n",
       "      <td>2.225541</td>\n",
       "      <td>3.737670</td>\n",
       "      <td>6.670766</td>\n",
       "      <td>0.000000</td>\n",
       "      <td>1.098612</td>\n",
       "      <td>0.733809</td>\n",
       "      <td>0.000000</td>\n",
       "      <td>0.000000</td>\n",
       "      <td>0.000000</td>\n",
       "      <td>0.000000</td>\n",
       "      <td>0.000000</td>\n",
       "      <td>0</td>\n",
       "    </tr>\n",
       "    <tr>\n",
       "      <th>90012</th>\n",
       "      <td>10.305614</td>\n",
       "      <td>11.153389</td>\n",
       "      <td>1.534186</td>\n",
       "      <td>3.610918</td>\n",
       "      <td>6.651572</td>\n",
       "      <td>0.000000</td>\n",
       "      <td>0.693147</td>\n",
       "      <td>0.459322</td>\n",
       "      <td>0.693147</td>\n",
       "      <td>0.000000</td>\n",
       "      <td>0.000000</td>\n",
       "      <td>0.000000</td>\n",
       "      <td>0.000000</td>\n",
       "      <td>0</td>\n",
       "    </tr>\n",
       "    <tr>\n",
       "      <th>90013</th>\n",
       "      <td>10.876159</td>\n",
       "      <td>11.127263</td>\n",
       "      <td>2.177114</td>\n",
       "      <td>3.583519</td>\n",
       "      <td>6.401917</td>\n",
       "      <td>1.386294</td>\n",
       "      <td>2.772589</td>\n",
       "      <td>1.125903</td>\n",
       "      <td>2.079442</td>\n",
       "      <td>0.000000</td>\n",
       "      <td>12.638183</td>\n",
       "      <td>1.609438</td>\n",
       "      <td>0.000000</td>\n",
       "      <td>0</td>\n",
       "    </tr>\n",
       "    <tr>\n",
       "      <th>90014</th>\n",
       "      <td>11.181640</td>\n",
       "      <td>11.319341</td>\n",
       "      <td>2.389299</td>\n",
       "      <td>3.663562</td>\n",
       "      <td>6.522093</td>\n",
       "      <td>0.000000</td>\n",
       "      <td>2.079442</td>\n",
       "      <td>0.948952</td>\n",
       "      <td>1.098612</td>\n",
       "      <td>0.000000</td>\n",
       "      <td>8.839422</td>\n",
       "      <td>1.098612</td>\n",
       "      <td>0.000000</td>\n",
       "      <td>0</td>\n",
       "    </tr>\n",
       "    <tr>\n",
       "      <th>90015</th>\n",
       "      <td>10.689670</td>\n",
       "      <td>11.088278</td>\n",
       "      <td>1.956193</td>\n",
       "      <td>3.295837</td>\n",
       "      <td>6.411818</td>\n",
       "      <td>0.000000</td>\n",
       "      <td>0.000000</td>\n",
       "      <td>1.386294</td>\n",
       "      <td>0.693147</td>\n",
       "      <td>0.000000</td>\n",
       "      <td>12.010672</td>\n",
       "      <td>0.000000</td>\n",
       "      <td>0.693147</td>\n",
       "      <td>0</td>\n",
       "    </tr>\n",
       "    <tr>\n",
       "      <th>90016</th>\n",
       "      <td>10.687389</td>\n",
       "      <td>10.959540</td>\n",
       "      <td>2.142557</td>\n",
       "      <td>3.135494</td>\n",
       "      <td>6.562444</td>\n",
       "      <td>1.098612</td>\n",
       "      <td>0.693147</td>\n",
       "      <td>0.348542</td>\n",
       "      <td>1.098612</td>\n",
       "      <td>0.000000</td>\n",
       "      <td>9.401043</td>\n",
       "      <td>1.098612</td>\n",
       "      <td>0.000000</td>\n",
       "      <td>0</td>\n",
       "    </tr>\n",
       "    <tr>\n",
       "      <th>90017</th>\n",
       "      <td>10.654904</td>\n",
       "      <td>11.178850</td>\n",
       "      <td>1.807600</td>\n",
       "      <td>3.526361</td>\n",
       "      <td>6.584791</td>\n",
       "      <td>0.000000</td>\n",
       "      <td>1.386294</td>\n",
       "      <td>1.406832</td>\n",
       "      <td>1.609438</td>\n",
       "      <td>0.000000</td>\n",
       "      <td>14.488864</td>\n",
       "      <td>1.098612</td>\n",
       "      <td>0.000000</td>\n",
       "      <td>0</td>\n",
       "    </tr>\n",
       "    <tr>\n",
       "      <th>90018</th>\n",
       "      <td>10.971641</td>\n",
       "      <td>11.238489</td>\n",
       "      <td>2.151144</td>\n",
       "      <td>3.737670</td>\n",
       "      <td>6.595781</td>\n",
       "      <td>0.000000</td>\n",
       "      <td>1.098612</td>\n",
       "      <td>1.041336</td>\n",
       "      <td>0.693147</td>\n",
       "      <td>0.000000</td>\n",
       "      <td>0.000000</td>\n",
       "      <td>0.000000</td>\n",
       "      <td>0.000000</td>\n",
       "      <td>0</td>\n",
       "    </tr>\n",
       "    <tr>\n",
       "      <th>90019</th>\n",
       "      <td>10.379722</td>\n",
       "      <td>11.154821</td>\n",
       "      <td>1.585659</td>\n",
       "      <td>3.178054</td>\n",
       "      <td>6.670766</td>\n",
       "      <td>0.000000</td>\n",
       "      <td>1.386294</td>\n",
       "      <td>1.446919</td>\n",
       "      <td>1.098612</td>\n",
       "      <td>0.000000</td>\n",
       "      <td>11.243751</td>\n",
       "      <td>0.693147</td>\n",
       "      <td>0.000000</td>\n",
       "      <td>0</td>\n",
       "    </tr>\n",
       "    <tr>\n",
       "      <th>90020</th>\n",
       "      <td>11.047710</td>\n",
       "      <td>11.170435</td>\n",
       "      <td>2.422984</td>\n",
       "      <td>3.806662</td>\n",
       "      <td>5.948035</td>\n",
       "      <td>0.000000</td>\n",
       "      <td>1.791759</td>\n",
       "      <td>1.504077</td>\n",
       "      <td>1.098612</td>\n",
       "      <td>0.693147</td>\n",
       "      <td>12.216028</td>\n",
       "      <td>0.000000</td>\n",
       "      <td>0.693147</td>\n",
       "      <td>1</td>\n",
       "    </tr>\n",
       "    <tr>\n",
       "      <th>90021</th>\n",
       "      <td>10.388995</td>\n",
       "      <td>10.700995</td>\n",
       "      <td>2.079235</td>\n",
       "      <td>3.332205</td>\n",
       "      <td>6.595781</td>\n",
       "      <td>0.000000</td>\n",
       "      <td>0.693147</td>\n",
       "      <td>0.693147</td>\n",
       "      <td>1.098612</td>\n",
       "      <td>0.000000</td>\n",
       "      <td>0.000000</td>\n",
       "      <td>0.000000</td>\n",
       "      <td>0.000000</td>\n",
       "      <td>0</td>\n",
       "    </tr>\n",
       "    <tr>\n",
       "      <th>90022</th>\n",
       "      <td>11.016988</td>\n",
       "      <td>11.264464</td>\n",
       "      <td>2.183655</td>\n",
       "      <td>3.637586</td>\n",
       "      <td>5.703782</td>\n",
       "      <td>1.098612</td>\n",
       "      <td>2.302585</td>\n",
       "      <td>2.577714</td>\n",
       "      <td>0.693147</td>\n",
       "      <td>1.098612</td>\n",
       "      <td>13.470483</td>\n",
       "      <td>0.000000</td>\n",
       "      <td>0.000000</td>\n",
       "      <td>0</td>\n",
       "    </tr>\n",
       "    <tr>\n",
       "      <th>90023</th>\n",
       "      <td>10.998761</td>\n",
       "      <td>11.314475</td>\n",
       "      <td>2.073007</td>\n",
       "      <td>3.784190</td>\n",
       "      <td>6.577861</td>\n",
       "      <td>0.000000</td>\n",
       "      <td>2.397895</td>\n",
       "      <td>1.228763</td>\n",
       "      <td>0.693147</td>\n",
       "      <td>0.000000</td>\n",
       "      <td>9.503085</td>\n",
       "      <td>0.000000</td>\n",
       "      <td>0.000000</td>\n",
       "      <td>0</td>\n",
       "    </tr>\n",
       "    <tr>\n",
       "      <th>90024</th>\n",
       "      <td>11.085215</td>\n",
       "      <td>11.408675</td>\n",
       "      <td>2.062667</td>\n",
       "      <td>3.295837</td>\n",
       "      <td>5.703782</td>\n",
       "      <td>0.000000</td>\n",
       "      <td>0.693147</td>\n",
       "      <td>1.041336</td>\n",
       "      <td>1.098612</td>\n",
       "      <td>1.098612</td>\n",
       "      <td>10.051951</td>\n",
       "      <td>0.000000</td>\n",
       "      <td>1.098612</td>\n",
       "      <td>1</td>\n",
       "    </tr>\n",
       "    <tr>\n",
       "      <th>90025</th>\n",
       "      <td>10.855145</td>\n",
       "      <td>11.050890</td>\n",
       "      <td>2.275045</td>\n",
       "      <td>3.610918</td>\n",
       "      <td>6.492240</td>\n",
       "      <td>0.000000</td>\n",
       "      <td>1.098612</td>\n",
       "      <td>0.405465</td>\n",
       "      <td>1.098612</td>\n",
       "      <td>0.000000</td>\n",
       "      <td>11.326608</td>\n",
       "      <td>0.000000</td>\n",
       "      <td>0.000000</td>\n",
       "      <td>0</td>\n",
       "    </tr>\n",
       "    <tr>\n",
       "      <th>90026</th>\n",
       "      <td>10.442901</td>\n",
       "      <td>11.113939</td>\n",
       "      <td>1.666957</td>\n",
       "      <td>3.295837</td>\n",
       "      <td>6.478510</td>\n",
       "      <td>0.000000</td>\n",
       "      <td>0.000000</td>\n",
       "      <td>0.405465</td>\n",
       "      <td>0.693147</td>\n",
       "      <td>0.000000</td>\n",
       "      <td>9.836332</td>\n",
       "      <td>0.000000</td>\n",
       "      <td>0.000000</td>\n",
       "      <td>0</td>\n",
       "    </tr>\n",
       "    <tr>\n",
       "      <th>90027</th>\n",
       "      <td>11.101945</td>\n",
       "      <td>11.350407</td>\n",
       "      <td>2.181472</td>\n",
       "      <td>3.970292</td>\n",
       "      <td>5.703782</td>\n",
       "      <td>0.000000</td>\n",
       "      <td>0.000000</td>\n",
       "      <td>2.808378</td>\n",
       "      <td>0.693147</td>\n",
       "      <td>0.693147</td>\n",
       "      <td>10.021315</td>\n",
       "      <td>0.000000</td>\n",
       "      <td>0.000000</td>\n",
       "      <td>0</td>\n",
       "    </tr>\n",
       "    <tr>\n",
       "      <th>90028</th>\n",
       "      <td>10.825760</td>\n",
       "      <td>11.052476</td>\n",
       "      <td>2.218874</td>\n",
       "      <td>3.610918</td>\n",
       "      <td>6.565265</td>\n",
       "      <td>0.000000</td>\n",
       "      <td>1.098612</td>\n",
       "      <td>0.405465</td>\n",
       "      <td>0.693147</td>\n",
       "      <td>0.000000</td>\n",
       "      <td>12.237576</td>\n",
       "      <td>0.000000</td>\n",
       "      <td>0.000000</td>\n",
       "      <td>0</td>\n",
       "    </tr>\n",
       "    <tr>\n",
       "      <th>90029</th>\n",
       "      <td>10.845446</td>\n",
       "      <td>11.083680</td>\n",
       "      <td>2.198994</td>\n",
       "      <td>3.828641</td>\n",
       "      <td>6.562444</td>\n",
       "      <td>0.000000</td>\n",
       "      <td>0.000000</td>\n",
       "      <td>0.287432</td>\n",
       "      <td>0.693147</td>\n",
       "      <td>0.000000</td>\n",
       "      <td>8.575651</td>\n",
       "      <td>0.693147</td>\n",
       "      <td>0.000000</td>\n",
       "      <td>0</td>\n",
       "    </tr>\n",
       "    <tr>\n",
       "      <th>90030</th>\n",
       "      <td>11.074421</td>\n",
       "      <td>11.215866</td>\n",
       "      <td>2.382142</td>\n",
       "      <td>3.891820</td>\n",
       "      <td>6.562444</td>\n",
       "      <td>0.693147</td>\n",
       "      <td>1.098612</td>\n",
       "      <td>1.011601</td>\n",
       "      <td>1.098612</td>\n",
       "      <td>0.000000</td>\n",
       "      <td>13.042673</td>\n",
       "      <td>0.693147</td>\n",
       "      <td>0.000000</td>\n",
       "      <td>0</td>\n",
       "    </tr>\n",
       "  </tbody>\n",
       "</table>\n",
       "</div>"
      ],
      "text/plain": [
       "         loan_amount  asset_cost  loan_to_value  customer_age  credit_score  \\\n",
       "loan_id                                                                       \n",
       "90001      11.061940   11.439279       1.985757      3.367296      6.595781   \n",
       "90002      10.898589   11.194097       2.104336      3.526361      6.122493   \n",
       "90003      10.855145   11.042922       2.291027      3.401197      6.335054   \n",
       "90004      11.033275   11.164785       2.403678      3.828641      6.562444   \n",
       "90005      10.555813   11.077516       1.811219      3.688879      5.703782   \n",
       "90006      11.058795   11.401994       2.031958      3.713572      6.391917   \n",
       "90007      10.893029   11.071315       2.309428      3.218876      6.670766   \n",
       "90008      10.902280   11.115429       2.243417      3.637586      6.605298   \n",
       "90009      10.973357   11.174652       2.265963      3.295837      6.670766   \n",
       "90010      10.413313   11.189962       1.584074      3.737670      6.159095   \n",
       "90011      10.841540   11.065075       2.225541      3.737670      6.670766   \n",
       "90012      10.305614   11.153389       1.534186      3.610918      6.651572   \n",
       "90013      10.876159   11.127263       2.177114      3.583519      6.401917   \n",
       "90014      11.181640   11.319341       2.389299      3.663562      6.522093   \n",
       "90015      10.689670   11.088278       1.956193      3.295837      6.411818   \n",
       "90016      10.687389   10.959540       2.142557      3.135494      6.562444   \n",
       "90017      10.654904   11.178850       1.807600      3.526361      6.584791   \n",
       "90018      10.971641   11.238489       2.151144      3.737670      6.595781   \n",
       "90019      10.379722   11.154821       1.585659      3.178054      6.670766   \n",
       "90020      11.047710   11.170435       2.422984      3.806662      5.948035   \n",
       "90021      10.388995   10.700995       2.079235      3.332205      6.595781   \n",
       "90022      11.016988   11.264464       2.183655      3.637586      5.703782   \n",
       "90023      10.998761   11.314475       2.073007      3.784190      6.577861   \n",
       "90024      11.085215   11.408675       2.062667      3.295837      5.703782   \n",
       "90025      10.855145   11.050890       2.275045      3.610918      6.492240   \n",
       "90026      10.442901   11.113939       1.666957      3.295837      6.478510   \n",
       "90027      11.101945   11.350407       2.181472      3.970292      5.703782   \n",
       "90028      10.825760   11.052476       2.218874      3.610918      6.565265   \n",
       "90029      10.845446   11.083680       2.198994      3.828641      6.562444   \n",
       "90030      11.074421   11.215866       2.382142      3.891820      6.562444   \n",
       "\n",
       "         credit_inquiries  total_credit_accounts  credit_history_length  \\\n",
       "loan_id                                                                   \n",
       "90001            0.000000               0.000000               0.733809   \n",
       "90002            0.000000               1.098612               2.003775   \n",
       "90003            0.000000               1.098612               1.658228   \n",
       "90004            0.000000               0.000000               0.405465   \n",
       "90005            0.000000               1.386294               1.673914   \n",
       "90006            0.000000               2.890372               1.299374   \n",
       "90007            0.000000               0.000000               0.948952   \n",
       "90008            1.098612               0.000000               1.011601   \n",
       "90009            0.000000               0.000000               0.882527   \n",
       "90010            1.386294               0.693147               0.882527   \n",
       "90011            0.000000               1.098612               0.733809   \n",
       "90012            0.000000               0.693147               0.459322   \n",
       "90013            1.386294               2.772589               1.125903   \n",
       "90014            0.000000               2.079442               0.948952   \n",
       "90015            0.000000               0.000000               1.386294   \n",
       "90016            1.098612               0.693147               0.348542   \n",
       "90017            0.000000               1.386294               1.406832   \n",
       "90018            0.000000               1.098612               1.041336   \n",
       "90019            0.000000               1.386294               1.446919   \n",
       "90020            0.000000               1.791759               1.504077   \n",
       "90021            0.000000               0.693147               0.693147   \n",
       "90022            1.098612               2.302585               2.577714   \n",
       "90023            0.000000               2.397895               1.228763   \n",
       "90024            0.000000               0.693147               1.041336   \n",
       "90025            0.000000               1.098612               0.405465   \n",
       "90026            0.000000               0.000000               0.405465   \n",
       "90027            0.000000               0.000000               2.808378   \n",
       "90028            0.000000               1.098612               0.405465   \n",
       "90029            0.000000               0.000000               0.287432   \n",
       "90030            0.693147               1.098612               1.011601   \n",
       "\n",
       "         active_credit_accounts  overdue_credit_accounts  \\\n",
       "loan_id                                                    \n",
       "90001                  0.693147                 0.000000   \n",
       "90002                  1.386294                 0.693147   \n",
       "90003                  1.098612                 0.693147   \n",
       "90004                  0.693147                 0.000000   \n",
       "90005                  1.098612                 1.098612   \n",
       "90006                  1.945910                 0.000000   \n",
       "90007                  0.000000                 0.000000   \n",
       "90008                  0.693147                 0.000000   \n",
       "90009                  0.000000                 0.000000   \n",
       "90010                  0.693147                 0.693147   \n",
       "90011                  0.000000                 0.000000   \n",
       "90012                  0.693147                 0.000000   \n",
       "90013                  2.079442                 0.000000   \n",
       "90014                  1.098612                 0.000000   \n",
       "90015                  0.693147                 0.000000   \n",
       "90016                  1.098612                 0.000000   \n",
       "90017                  1.609438                 0.000000   \n",
       "90018                  0.693147                 0.000000   \n",
       "90019                  1.098612                 0.000000   \n",
       "90020                  1.098612                 0.693147   \n",
       "90021                  1.098612                 0.000000   \n",
       "90022                  0.693147                 1.098612   \n",
       "90023                  0.693147                 0.000000   \n",
       "90024                  1.098612                 1.098612   \n",
       "90025                  1.098612                 0.000000   \n",
       "90026                  0.693147                 0.000000   \n",
       "90027                  0.693147                 0.693147   \n",
       "90028                  0.693147                 0.000000   \n",
       "90029                  0.693147                 0.000000   \n",
       "90030                  1.098612                 0.000000   \n",
       "\n",
       "         total_current_balance  recent_loans  recent_defaulted_loans  \\\n",
       "loan_id                                                                \n",
       "90001                 0.000000      0.000000                0.000000   \n",
       "90002                12.589296      0.693147                0.693147   \n",
       "90003                10.868587      0.693147                0.693147   \n",
       "90004                 8.101981      0.000000                0.000000   \n",
       "90005                12.481433      0.000000                0.000000   \n",
       "90006                13.196359      0.693147                0.000000   \n",
       "90007                 0.000000      0.000000                0.693147   \n",
       "90008                13.427789      0.000000                0.000000   \n",
       "90009                 0.000000      0.000000                0.000000   \n",
       "90010                11.219909      0.000000                0.000000   \n",
       "90011                 0.000000      0.000000                0.000000   \n",
       "90012                 0.000000      0.000000                0.000000   \n",
       "90013                12.638183      1.609438                0.000000   \n",
       "90014                 8.839422      1.098612                0.000000   \n",
       "90015                12.010672      0.000000                0.693147   \n",
       "90016                 9.401043      1.098612                0.000000   \n",
       "90017                14.488864      1.098612                0.000000   \n",
       "90018                 0.000000      0.000000                0.000000   \n",
       "90019                11.243751      0.693147                0.000000   \n",
       "90020                12.216028      0.000000                0.693147   \n",
       "90021                 0.000000      0.000000                0.000000   \n",
       "90022                13.470483      0.000000                0.000000   \n",
       "90023                 9.503085      0.000000                0.000000   \n",
       "90024                10.051951      0.000000                1.098612   \n",
       "90025                11.326608      0.000000                0.000000   \n",
       "90026                 9.836332      0.000000                0.000000   \n",
       "90027                10.021315      0.000000                0.000000   \n",
       "90028                12.237576      0.000000                0.000000   \n",
       "90029                 8.575651      0.693147                0.000000   \n",
       "90030                13.042673      0.693147                0.000000   \n",
       "\n",
       "         loan_default  \n",
       "loan_id                \n",
       "90001               0  \n",
       "90002               0  \n",
       "90003               1  \n",
       "90004               0  \n",
       "90005               0  \n",
       "90006               0  \n",
       "90007               1  \n",
       "90008               0  \n",
       "90009               0  \n",
       "90010               0  \n",
       "90011               0  \n",
       "90012               0  \n",
       "90013               0  \n",
       "90014               0  \n",
       "90015               0  \n",
       "90016               0  \n",
       "90017               0  \n",
       "90018               0  \n",
       "90019               0  \n",
       "90020               1  \n",
       "90021               0  \n",
       "90022               0  \n",
       "90023               0  \n",
       "90024               1  \n",
       "90025               0  \n",
       "90026               0  \n",
       "90027               0  \n",
       "90028               0  \n",
       "90029               0  \n",
       "90030               0  "
      ]
     },
     "execution_count": 73,
     "metadata": {},
     "output_type": "execute_result"
    }
   ],
   "source": [
    "df_predict.head(30)"
   ]
  },
  {
   "cell_type": "markdown",
   "id": "mental-walter",
   "metadata": {},
   "source": [
    "<h3>Conclusion</h3>"
   ]
  },
  {
   "cell_type": "markdown",
   "id": "fatty-mountain",
   "metadata": {},
   "source": [
    "- Comparing all the models above, Artificial Neural Network (ANN) has the best evaluation metrics scores.\n",
    "\n",
    "- On a business case perspective, it is more important to \"accurately\" predict the number of customers who are likely to default the loan. As a result, I have evaluated recall, f1 score, and confusion metrics over accuracy."
   ]
  }
 ],
 "metadata": {
  "colab": {
   "collapsed_sections": [],
   "name": "Project 1.ipynb",
   "provenance": []
  },
  "kernelspec": {
   "display_name": "Python 3",
   "language": "python",
   "name": "python3"
  },
  "language_info": {
   "codemirror_mode": {
    "name": "ipython",
    "version": 3
   },
   "file_extension": ".py",
   "mimetype": "text/x-python",
   "name": "python",
   "nbconvert_exporter": "python",
   "pygments_lexer": "ipython3",
   "version": "3.7.6"
  }
 },
 "nbformat": 4,
 "nbformat_minor": 5
}
